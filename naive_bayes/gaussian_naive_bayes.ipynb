{
 "cells": [
  {
   "cell_type": "markdown",
   "metadata": {
    "heading_collapsed": true
   },
   "source": [
    "# Naive Bayes"
   ]
  },
  {
   "cell_type": "code",
   "execution_count": 1,
   "metadata": {
    "ExecuteTime": {
     "end_time": "2021-01-02T03:16:46.419994Z",
     "start_time": "2021-01-02T03:16:45.526839Z"
    },
    "hidden": true
   },
   "outputs": [],
   "source": [
    "import numpy as np\n",
    "import pandas as pd\n",
    "import re\n",
    "import matplotlib.pyplot as plt\n",
    "plt.style.use('ggplot')\n",
    "import seaborn as sns\n",
    "sns.set_style(\"darkgrid\")\n",
    "\n",
    "from math import sqrt, pi\n",
    "\n",
    "from sklearn.datasets import load_breast_cancer, load_iris\n",
    "from sklearn.model_selection import train_test_split\n",
    "from sklearn.naive_bayes import GaussianNB, MultinomialNB, BernoulliNB\n",
    "from sklearn.model_selection import train_test_split\n",
    "\n",
    "from IPython.core.display import display, HTML"
   ]
  },
  {
   "cell_type": "markdown",
   "metadata": {
    "hidden": true
   },
   "source": [
    "**Essencial que o aluno conheça:**\n",
    "\n",
    "- O que é uma Distribuição Gaussiana.\n",
    "- Dóminio da biblioteca pandas.\n",
    "- Básico de machine learning (exemplo: porque separar dados em treino e test).\n",
    "\n",
    "**Desejável que o aluno conheça:**\n",
    "- Probabilidade condicional (Bayes).\n",
    "- Probability density functions.\n",
    "\n",
    "**O que vamos aprender?**\n",
    "\n",
    "- Como funciona o algoritmo ```Gaussian naive bayes```.\n",
    "- Como ele se relaciona com outros algoritmos baseados em ```naive bayes```.\n",
    "- Exemplo de aplicação em textos."
   ]
  },
  {
   "cell_type": "markdown",
   "metadata": {
    "heading_collapsed": true,
    "hidden": true
   },
   "source": [
    "## Functions "
   ]
  },
  {
   "cell_type": "code",
   "execution_count": 2,
   "metadata": {
    "ExecuteTime": {
     "end_time": "2021-01-02T03:16:46.435903Z",
     "start_time": "2021-01-02T03:16:46.421901Z"
    },
    "hidden": true
   },
   "outputs": [],
   "source": [
    "def prepareData(sklearnDataSet):\n",
    "    \n",
    "    X, y = sklearnDataSet(return_X_y=True)\n",
    "    data  = np.hstack([X,y.reshape(-1,1)])\n",
    "    cols_name_lst = [f\"feature_{i+1}\" for i in range(X.shape[1])] + [\"target\"]\n",
    "    return pd.DataFrame(data, columns = cols_name_lst)\n",
    "\n",
    "def getStats(df):\n",
    "    \n",
    "    classes = list(map(int, df.target.unique()))\n",
    "    return df.groupby(\"target\")\\\n",
    "             .agg([\"mean\",\"std\"]).T\\\n",
    "             .reset_index()\\\n",
    "             .rename(columns = {\"level_0\":\"feature\",\"level_1\":\"statistic\"})\\\n",
    "             .pivot(index='feature', columns=\"statistic\", values=classes)\\\n",
    "             .T\\\n",
    "             .sort_index()\n",
    "\n",
    "\n",
    "def gaussian(x, mu, sig):\n",
    "    aux = 2*(sig**2)\n",
    "    return np.exp(-(x - mu)**2 /aux)/sqrt(aux)\n",
    "\n",
    "def display_side_by_side(dfs:list, captions:list):\n",
    "    \"\"\"Display tables side by side to save vertical space\n",
    "    Input:\n",
    "        dfs: list of pandas.DataFrame\n",
    "        captions: list of table captions\n",
    "    \"\"\"\n",
    "    output = \"\"\n",
    "    combined = dict(zip(captions, dfs))\n",
    "    for caption, df in combined.items():\n",
    "        output += df.style.set_table_attributes(\"style='display:inline'\").set_caption(caption)._repr_html_()\n",
    "        output += \"\\xa0\\xa0\\xa0\\xa0\\xa0\"\n",
    "    display(HTML(output))\n",
    "    \n",
    "def gaussian_plot(s, point):\n",
    "    \n",
    "    fig = plt.figure(figsize=(20,4))\n",
    "    mean_lst = []\n",
    "    std_lst = []\n",
    "    \n",
    "    feature_point = point[s.name]\n",
    "    \n",
    "    #Split column in means and standard deviations\n",
    "    for mean, std in zip(s[0::2],s[1::2]):\n",
    "        mean_lst.append(mean)\n",
    "        std_lst.append(std)\n",
    "\n",
    "    max_mean = max(mean_lst)\n",
    "    min_mean = min(mean_lst)\n",
    "    max_std  = max(std_lst)  \n",
    "    \n",
    "    #Make x axis \n",
    "    x = np.linspace(min(mean_lst)-3*max_std, max(mean_lst)+3*max_std, 5000)\n",
    "    \n",
    "    #Store likelihood for every class\n",
    "    y_probability = []\n",
    "    \n",
    "    for index, stats in enumerate(zip(mean_lst, std_lst)):\n",
    "        \n",
    "        mean, std = stats\n",
    "        \n",
    "        y = [gaussian(i, mean, std) for i in x]\n",
    "        plt.title(fr\"PDF: {s.name.upper()}\")\n",
    "        plt.plot(x, y, lw=2,label=fr\"$\\mu: {round(mean,2)} , \\sigma: {round(std,2)}$\")\n",
    "        \n",
    "        # Calculate likelihood for an given point\n",
    "        y_point = gaussian(feature_point, mean, std)\n",
    "        #Store the log to prevent underflow while multiplicating\n",
    "        y_probability.append(np.log(y_point))\n",
    "        plt.vlines(x=feature_point, ymin=0, ymax = y_point, linewidth=1, color='k', linestyles = \"dashdot\")\n",
    "        plt.hlines(y=y_point, xmin=x[0], xmax = feature_point, linewidth=1, color='k', linestyles = \"dashdot\")\n",
    "        plt.scatter(feature_point, y_point, s = 50)\n",
    "\n",
    "        \n",
    "    first_legend = plt.legend(loc=\"upper left\", title=r\"Stats\", fancybox=True, fontsize=16)\n",
    "    plt.setp(first_legend.get_title(),fontsize=18)\n",
    "    plt.gca().add_artist(first_legend)\n",
    "    \n",
    "    second_legend = plt.legend(list(range(len(s)//2)),\n",
    "                               title=\"Classes\",\n",
    "                               fancybox=True, \n",
    "                               fontsize=16,\n",
    "                               loc='upper right')    \n",
    "    \n",
    "    plt.setp(second_legend.get_title(),fontsize=18)       \n",
    "    plt.show()\n",
    "    plt.close()\n",
    "    \n",
    "    return pd.Series(y_probability)"
   ]
  },
  {
   "cell_type": "markdown",
   "metadata": {
    "heading_collapsed": true,
    "hidden": true
   },
   "source": [
    "## Carregando os datasets "
   ]
  },
  {
   "cell_type": "code",
   "execution_count": 3,
   "metadata": {
    "ExecuteTime": {
     "end_time": "2021-01-02T03:16:46.453814Z",
     "start_time": "2021-01-02T03:16:46.437858Z"
    },
    "hidden": true
   },
   "outputs": [],
   "source": [
    "cancer_df = prepareData(load_breast_cancer)\n",
    "iris_df = prepareData(load_iris)"
   ]
  },
  {
   "cell_type": "markdown",
   "metadata": {
    "heading_collapsed": true,
    "hidden": true
   },
   "source": [
    "### Escolha o dataset"
   ]
  },
  {
   "cell_type": "code",
   "execution_count": 4,
   "metadata": {
    "ExecuteTime": {
     "end_time": "2021-01-02T03:16:46.458802Z",
     "start_time": "2021-01-02T03:16:46.454813Z"
    },
    "hidden": true
   },
   "outputs": [],
   "source": [
    "df = iris_df"
   ]
  },
  {
   "cell_type": "markdown",
   "metadata": {
    "heading_collapsed": true,
    "hidden": true
   },
   "source": [
    "### Split dos dados"
   ]
  },
  {
   "cell_type": "code",
   "execution_count": 5,
   "metadata": {
    "ExecuteTime": {
     "end_time": "2021-01-02T03:16:46.651289Z",
     "start_time": "2021-01-02T03:16:46.459799Z"
    },
    "hidden": true
   },
   "outputs": [
    {
     "data": {
      "text/html": [
       "<style  type=\"text/css\" >\n",
       "</style><table id=\"T_f230f476_4ca8_11eb_94ca_c0b5d7eddeec\" style='display:inline'><caption>Train</caption><thead>    <tr>        <th class=\"blank level0\" ></th>        <th class=\"col_heading level0 col0\" >feature_1</th>        <th class=\"col_heading level0 col1\" >feature_2</th>        <th class=\"col_heading level0 col2\" >feature_3</th>        <th class=\"col_heading level0 col3\" >feature_4</th>        <th class=\"col_heading level0 col4\" >target</th>    </tr></thead><tbody>\n",
       "                <tr>\n",
       "                        <th id=\"T_f230f476_4ca8_11eb_94ca_c0b5d7eddeeclevel0_row0\" class=\"row_heading level0 row0\" >56</th>\n",
       "                        <td id=\"T_f230f476_4ca8_11eb_94ca_c0b5d7eddeecrow0_col0\" class=\"data row0 col0\" >6.300000</td>\n",
       "                        <td id=\"T_f230f476_4ca8_11eb_94ca_c0b5d7eddeecrow0_col1\" class=\"data row0 col1\" >3.300000</td>\n",
       "                        <td id=\"T_f230f476_4ca8_11eb_94ca_c0b5d7eddeecrow0_col2\" class=\"data row0 col2\" >4.700000</td>\n",
       "                        <td id=\"T_f230f476_4ca8_11eb_94ca_c0b5d7eddeecrow0_col3\" class=\"data row0 col3\" >1.600000</td>\n",
       "                        <td id=\"T_f230f476_4ca8_11eb_94ca_c0b5d7eddeecrow0_col4\" class=\"data row0 col4\" >1.000000</td>\n",
       "            </tr>\n",
       "            <tr>\n",
       "                        <th id=\"T_f230f476_4ca8_11eb_94ca_c0b5d7eddeeclevel0_row1\" class=\"row_heading level0 row1\" >104</th>\n",
       "                        <td id=\"T_f230f476_4ca8_11eb_94ca_c0b5d7eddeecrow1_col0\" class=\"data row1 col0\" >6.500000</td>\n",
       "                        <td id=\"T_f230f476_4ca8_11eb_94ca_c0b5d7eddeecrow1_col1\" class=\"data row1 col1\" >3.000000</td>\n",
       "                        <td id=\"T_f230f476_4ca8_11eb_94ca_c0b5d7eddeecrow1_col2\" class=\"data row1 col2\" >5.800000</td>\n",
       "                        <td id=\"T_f230f476_4ca8_11eb_94ca_c0b5d7eddeecrow1_col3\" class=\"data row1 col3\" >2.200000</td>\n",
       "                        <td id=\"T_f230f476_4ca8_11eb_94ca_c0b5d7eddeecrow1_col4\" class=\"data row1 col4\" >2.000000</td>\n",
       "            </tr>\n",
       "            <tr>\n",
       "                        <th id=\"T_f230f476_4ca8_11eb_94ca_c0b5d7eddeeclevel0_row2\" class=\"row_heading level0 row2\" >69</th>\n",
       "                        <td id=\"T_f230f476_4ca8_11eb_94ca_c0b5d7eddeecrow2_col0\" class=\"data row2 col0\" >5.600000</td>\n",
       "                        <td id=\"T_f230f476_4ca8_11eb_94ca_c0b5d7eddeecrow2_col1\" class=\"data row2 col1\" >2.500000</td>\n",
       "                        <td id=\"T_f230f476_4ca8_11eb_94ca_c0b5d7eddeecrow2_col2\" class=\"data row2 col2\" >3.900000</td>\n",
       "                        <td id=\"T_f230f476_4ca8_11eb_94ca_c0b5d7eddeecrow2_col3\" class=\"data row2 col3\" >1.100000</td>\n",
       "                        <td id=\"T_f230f476_4ca8_11eb_94ca_c0b5d7eddeecrow2_col4\" class=\"data row2 col4\" >1.000000</td>\n",
       "            </tr>\n",
       "    </tbody></table>     <style  type=\"text/css\" >\n",
       "</style><table id=\"T_f2311a3a_4ca8_11eb_82d3_c0b5d7eddeec\" style='display:inline'><caption>Test</caption><thead>    <tr>        <th class=\"blank level0\" ></th>        <th class=\"col_heading level0 col0\" >feature_1</th>        <th class=\"col_heading level0 col1\" >feature_2</th>        <th class=\"col_heading level0 col2\" >feature_3</th>        <th class=\"col_heading level0 col3\" >feature_4</th>        <th class=\"col_heading level0 col4\" >target</th>    </tr></thead><tbody>\n",
       "                <tr>\n",
       "                        <th id=\"T_f2311a3a_4ca8_11eb_82d3_c0b5d7eddeeclevel0_row0\" class=\"row_heading level0 row0\" >73</th>\n",
       "                        <td id=\"T_f2311a3a_4ca8_11eb_82d3_c0b5d7eddeecrow0_col0\" class=\"data row0 col0\" >6.100000</td>\n",
       "                        <td id=\"T_f2311a3a_4ca8_11eb_82d3_c0b5d7eddeecrow0_col1\" class=\"data row0 col1\" >2.800000</td>\n",
       "                        <td id=\"T_f2311a3a_4ca8_11eb_82d3_c0b5d7eddeecrow0_col2\" class=\"data row0 col2\" >4.700000</td>\n",
       "                        <td id=\"T_f2311a3a_4ca8_11eb_82d3_c0b5d7eddeecrow0_col3\" class=\"data row0 col3\" >1.200000</td>\n",
       "                        <td id=\"T_f2311a3a_4ca8_11eb_82d3_c0b5d7eddeecrow0_col4\" class=\"data row0 col4\" >1.000000</td>\n",
       "            </tr>\n",
       "            <tr>\n",
       "                        <th id=\"T_f2311a3a_4ca8_11eb_82d3_c0b5d7eddeeclevel0_row1\" class=\"row_heading level0 row1\" >18</th>\n",
       "                        <td id=\"T_f2311a3a_4ca8_11eb_82d3_c0b5d7eddeecrow1_col0\" class=\"data row1 col0\" >5.700000</td>\n",
       "                        <td id=\"T_f2311a3a_4ca8_11eb_82d3_c0b5d7eddeecrow1_col1\" class=\"data row1 col1\" >3.800000</td>\n",
       "                        <td id=\"T_f2311a3a_4ca8_11eb_82d3_c0b5d7eddeecrow1_col2\" class=\"data row1 col2\" >1.700000</td>\n",
       "                        <td id=\"T_f2311a3a_4ca8_11eb_82d3_c0b5d7eddeecrow1_col3\" class=\"data row1 col3\" >0.300000</td>\n",
       "                        <td id=\"T_f2311a3a_4ca8_11eb_82d3_c0b5d7eddeecrow1_col4\" class=\"data row1 col4\" >0.000000</td>\n",
       "            </tr>\n",
       "            <tr>\n",
       "                        <th id=\"T_f2311a3a_4ca8_11eb_82d3_c0b5d7eddeeclevel0_row2\" class=\"row_heading level0 row2\" >118</th>\n",
       "                        <td id=\"T_f2311a3a_4ca8_11eb_82d3_c0b5d7eddeecrow2_col0\" class=\"data row2 col0\" >7.700000</td>\n",
       "                        <td id=\"T_f2311a3a_4ca8_11eb_82d3_c0b5d7eddeecrow2_col1\" class=\"data row2 col1\" >2.600000</td>\n",
       "                        <td id=\"T_f2311a3a_4ca8_11eb_82d3_c0b5d7eddeecrow2_col2\" class=\"data row2 col2\" >6.900000</td>\n",
       "                        <td id=\"T_f2311a3a_4ca8_11eb_82d3_c0b5d7eddeecrow2_col3\" class=\"data row2 col3\" >2.300000</td>\n",
       "                        <td id=\"T_f2311a3a_4ca8_11eb_82d3_c0b5d7eddeecrow2_col4\" class=\"data row2 col4\" >2.000000</td>\n",
       "            </tr>\n",
       "    </tbody></table>     "
      ],
      "text/plain": [
       "<IPython.core.display.HTML object>"
      ]
     },
     "metadata": {},
     "output_type": "display_data"
    }
   ],
   "source": [
    "#A ultima coluna é o target. Outras colunas sao features.\n",
    "df_train, df_test = train_test_split(df, test_size = 0.1, random_state = 42)\n",
    "display_side_by_side([df_train.head(3), df_test.head(3)], [\"Train\", \"Test\"])"
   ]
  },
  {
   "cell_type": "markdown",
   "metadata": {
    "heading_collapsed": true,
    "hidden": true
   },
   "source": [
    "## Teoria "
   ]
  },
  {
   "cell_type": "markdown",
   "metadata": {
    "hidden": true
   },
   "source": [
    "Nos queremos calcular a \"probabilidade\" de Y ser de uma classe, com base em um conjunto de features, matematicamente $P(y|x_1, ..., x_n)$:\n",
    "\n",
    "\\begin{equation}\n",
    "P(y|x_1, ..., x_n) = \\frac{P(y)P(x_1, ..., x_n|y)}{P(x_1, ..., x_n)}\\\\\n",
    "\\end{equation}\n",
    "\n",
    "Nessa equação $P(y)$ é denominado ```probabilidade a priori```. Nós podemos usar simplesmente essa probabilidade para classificar. \n",
    "\n",
    "Exemplo: Suponha que voce queira saber se a próxima pessoa a passar pela porta de uma loja em especifico vai ser homem ou mulher. Além disso, vamos supor também que, foi medido empericamente e 60\\% das pessoas que entram são mulheres enquanto 40\\% são homens, isso é, a probabilidade a priori. Se a gente, só tem essa informação vamos dizer que a próxima pessoa a entrar é uma mulher.\n",
    "\n",
    "Entretanto, se tivermos dados podemos fazer melhor, suponha que as vezes colocam um letreiro na frente da loja falando sobre roupas masculinas, talvez faça mais homens entrarem, o que a gente quer saber é dado que existe o letreiro qual a probabilidade de um homem|mulher entrar na loja, matematicamente, $P(y=\\text{homem}|\\text{letreiro})$ e $P(y=\\text{mulher}|\\text{letreiro})$. \n",
    "\n",
    "Usando a equação anterior (Teorema de Bayes) podemos escrever \n",
    "$$P(y=homem|letreiro) = \\frac{P(y=homem)P(letreiro|y=homem)}{P(letreiro)}\n",
    "$$\n",
    "\n",
    "\n",
    "$$\n",
    "P(y=mulher|letreiro) = \\frac{P(y=mulher)P(letreiro|y=mulher)}{P(letreiro)}\n",
    "$$\n",
    "\n",
    "Usando dados historicos podemos calcular a probabilidade para cada classe e selecionar a classe com maior probabilidade.\n",
    "\n",
    "---\n",
    "\n",
    "Na nossa história o letreiro é uma feature, mas no mundo real utilizamos várias features e para simplificar os cálculos fazemos a suposição de ```indepêndencia condicional``` entre cada par de features, dessa forma, reescrevemos a equação anterior da seguinte maneira:\n",
    "\n",
    "$$\n",
    "P(y|x_1, ..., x_n) = \\frac{P(y)\\prod_{i=1}^{n}P(x_i|y)}{P(x_1, ..., x_n)}\\\\\n",
    "$$\n",
    "\n",
    "\n",
    "---\n",
    "\n",
    "Como o termo $P(x_1, ..., x_n)$ é constnte, a gente pode usar a seguinte regra de classificação:\n",
    "\n",
    "$$\n",
    "P(y|x_1, ..., x_n) \\propto P(y)\\prod_{i=1}^{n}P(x_i|y) \\\\\n",
    "$$\n",
    "\n",
    "---\n",
    "\n",
    "Como vamos trabalhar com números pequenos utilizamos um truque matemático para previnir underflow. Basicamente aplicamos a operação logaritimica, assim as multiplicações viram somas:\n",
    "\n",
    "$$\n",
    "logP(y|x_1, ..., x_n) \\propto logP(y) + \\sum_{i=1}^{n}logP(x_i|y) \\\\\n",
    "$$"
   ]
  },
  {
   "cell_type": "markdown",
   "metadata": {
    "hidden": true
   },
   "source": [
    "## Gaussian Naive Bayes "
   ]
  },
  {
   "cell_type": "markdown",
   "metadata": {
    "hidden": true
   },
   "source": [
    "**Premissas:** As features tem uma distribuição gaussiana.\n",
    "\n",
    "<details><summary><b>O QUE FAZER??</b></summary>\n",
    "<img style=\"width: 400px;\" src=\"figures/meme1.jpg\">\n",
    "\n",
    "obs: Apesar de isso não ser verdade em diversos cenários, já foi reportado bons resultados para diversas aplicações."
   ]
  },
  {
   "cell_type": "markdown",
   "metadata": {
    "ExecuteTime": {
     "end_time": "2020-12-31T02:49:02.614863Z",
     "start_time": "2020-12-31T02:49:02.598852Z"
    },
    "hidden": true
   },
   "source": [
    "**Gaussian equation**:\n",
    "    \n",
    "$$\n",
    "P(X_i | y) = \\frac{1}{\\sqrt{2\\pi\\sigma_y^{2}}}\\exp{\\frac{-(x_i - \\mu_y)^{2}}{2\\sigma_y^{2}}}\n",
    "$$"
   ]
  },
  {
   "cell_type": "markdown",
   "metadata": {
    "heading_collapsed": true,
    "hidden": true
   },
   "source": [
    "### Dataset ```prior probability``` "
   ]
  },
  {
   "cell_type": "markdown",
   "metadata": {
    "hidden": true
   },
   "source": [
    "Depois dessa conversa sobre probabilidade vamos calcular as ```prior probabilities``` para cada classe, pois elas vão ser importantes."
   ]
  },
  {
   "cell_type": "code",
   "execution_count": 6,
   "metadata": {
    "ExecuteTime": {
     "end_time": "2021-01-02T03:16:46.666248Z",
     "start_time": "2021-01-02T03:16:46.652286Z"
    },
    "hidden": true
   },
   "outputs": [
    {
     "data": {
      "text/html": [
       "<div>\n",
       "<style scoped>\n",
       "    .dataframe tbody tr th:only-of-type {\n",
       "        vertical-align: middle;\n",
       "    }\n",
       "\n",
       "    .dataframe tbody tr th {\n",
       "        vertical-align: top;\n",
       "    }\n",
       "\n",
       "    .dataframe thead th {\n",
       "        text-align: right;\n",
       "    }\n",
       "</style>\n",
       "<table border=\"1\" class=\"dataframe\">\n",
       "  <thead>\n",
       "    <tr style=\"text-align: right;\">\n",
       "      <th></th>\n",
       "      <th>prior_probability</th>\n",
       "    </tr>\n",
       "    <tr>\n",
       "      <th>class</th>\n",
       "      <th></th>\n",
       "    </tr>\n",
       "  </thead>\n",
       "  <tbody>\n",
       "    <tr>\n",
       "      <th>2.0</th>\n",
       "      <td>0.333333</td>\n",
       "    </tr>\n",
       "    <tr>\n",
       "      <th>1.0</th>\n",
       "      <td>0.333333</td>\n",
       "    </tr>\n",
       "    <tr>\n",
       "      <th>0.0</th>\n",
       "      <td>0.333333</td>\n",
       "    </tr>\n",
       "  </tbody>\n",
       "</table>\n",
       "</div>"
      ],
      "text/plain": [
       "       prior_probability\n",
       "class                   \n",
       "2.0             0.333333\n",
       "1.0             0.333333\n",
       "0.0             0.333333"
      ]
     },
     "execution_count": 6,
     "metadata": {},
     "output_type": "execute_result"
    }
   ],
   "source": [
    "#prior probability\n",
    "prior_df = df[\"target\"]\\\n",
    "             .value_counts(normalize=True)\\\n",
    "             .reset_index(name=\"prior_probability\")\\\n",
    "             .rename(columns = {\"index\":\"class\"})\\\n",
    "             .set_index(\"class\")\n",
    "prior_df"
   ]
  },
  {
   "cell_type": "markdown",
   "metadata": {
    "hidden": true
   },
   "source": [
    "### Dataset ```mean``` e ```standard deviation```"
   ]
  },
  {
   "cell_type": "markdown",
   "metadata": {
    "hidden": true
   },
   "source": [
    "Como o nome diz gaussian é interessante calcular as médias e desvio padrão das features, porque provavelmente a gente vai utilizar.\n",
    "\n",
    "**Utilizando os dados de treino!!**\n",
    "\n",
    "---\n",
    "\n",
    "<details><summary><b>SPOILER</b></summary>\n",
    "    \n",
    "    A gente vai usar :)\n",
    "    "
   ]
  },
  {
   "cell_type": "code",
   "execution_count": 7,
   "metadata": {
    "ExecuteTime": {
     "end_time": "2021-01-02T03:16:46.694174Z",
     "start_time": "2021-01-02T03:16:46.668243Z"
    },
    "hidden": true,
    "scrolled": true
   },
   "outputs": [
    {
     "data": {
      "text/html": [
       "<div>\n",
       "<style scoped>\n",
       "    .dataframe tbody tr th:only-of-type {\n",
       "        vertical-align: middle;\n",
       "    }\n",
       "\n",
       "    .dataframe tbody tr th {\n",
       "        vertical-align: top;\n",
       "    }\n",
       "\n",
       "    .dataframe thead th {\n",
       "        text-align: right;\n",
       "    }\n",
       "</style>\n",
       "<table border=\"1\" class=\"dataframe\">\n",
       "  <thead>\n",
       "    <tr style=\"text-align: right;\">\n",
       "      <th></th>\n",
       "      <th>feature</th>\n",
       "      <th>feature_1</th>\n",
       "      <th>feature_2</th>\n",
       "      <th>feature_3</th>\n",
       "      <th>feature_4</th>\n",
       "    </tr>\n",
       "    <tr>\n",
       "      <th></th>\n",
       "      <th>statistic</th>\n",
       "      <th></th>\n",
       "      <th></th>\n",
       "      <th></th>\n",
       "      <th></th>\n",
       "    </tr>\n",
       "  </thead>\n",
       "  <tbody>\n",
       "    <tr>\n",
       "      <th rowspan=\"2\" valign=\"top\">0</th>\n",
       "      <th>mean</th>\n",
       "      <td>4.975000</td>\n",
       "      <td>3.427273</td>\n",
       "      <td>1.459091</td>\n",
       "      <td>0.247727</td>\n",
       "    </tr>\n",
       "    <tr>\n",
       "      <th>std</th>\n",
       "      <td>0.344475</td>\n",
       "      <td>0.387817</td>\n",
       "      <td>0.179558</td>\n",
       "      <td>0.104522</td>\n",
       "    </tr>\n",
       "    <tr>\n",
       "      <th rowspan=\"2\" valign=\"top\">1</th>\n",
       "      <th>mean</th>\n",
       "      <td>5.915909</td>\n",
       "      <td>2.777273</td>\n",
       "      <td>4.250000</td>\n",
       "      <td>1.322727</td>\n",
       "    </tr>\n",
       "    <tr>\n",
       "      <th>std</th>\n",
       "      <td>0.529565</td>\n",
       "      <td>0.321959</td>\n",
       "      <td>0.473728</td>\n",
       "      <td>0.205578</td>\n",
       "    </tr>\n",
       "    <tr>\n",
       "      <th rowspan=\"2\" valign=\"top\">2</th>\n",
       "      <th>mean</th>\n",
       "      <td>6.559574</td>\n",
       "      <td>2.974468</td>\n",
       "      <td>5.542553</td>\n",
       "      <td>2.014894</td>\n",
       "    </tr>\n",
       "    <tr>\n",
       "      <th>std</th>\n",
       "      <td>0.633026</td>\n",
       "      <td>0.326022</td>\n",
       "      <td>0.525334</td>\n",
       "      <td>0.277394</td>\n",
       "    </tr>\n",
       "  </tbody>\n",
       "</table>\n",
       "</div>"
      ],
      "text/plain": [
       "feature      feature_1  feature_2  feature_3  feature_4\n",
       "  statistic                                            \n",
       "0 mean        4.975000   3.427273   1.459091   0.247727\n",
       "  std         0.344475   0.387817   0.179558   0.104522\n",
       "1 mean        5.915909   2.777273   4.250000   1.322727\n",
       "  std         0.529565   0.321959   0.473728   0.205578\n",
       "2 mean        6.559574   2.974468   5.542553   2.014894\n",
       "  std         0.633026   0.326022   0.525334   0.277394"
      ]
     },
     "execution_count": 7,
     "metadata": {},
     "output_type": "execute_result"
    }
   ],
   "source": [
    "stats_df = getStats(df_train)\n",
    "stats_df"
   ]
  },
  {
   "cell_type": "code",
   "execution_count": 8,
   "metadata": {
    "ExecuteTime": {
     "end_time": "2021-01-02T03:16:46.706142Z",
     "start_time": "2021-01-02T03:16:46.696169Z"
    },
    "hidden": true
   },
   "outputs": [
    {
     "data": {
      "text/html": [
       "<div>\n",
       "<style scoped>\n",
       "    .dataframe tbody tr th:only-of-type {\n",
       "        vertical-align: middle;\n",
       "    }\n",
       "\n",
       "    .dataframe tbody tr th {\n",
       "        vertical-align: top;\n",
       "    }\n",
       "\n",
       "    .dataframe thead th {\n",
       "        text-align: right;\n",
       "    }\n",
       "</style>\n",
       "<table border=\"1\" class=\"dataframe\">\n",
       "  <thead>\n",
       "    <tr style=\"text-align: right;\">\n",
       "      <th>feature</th>\n",
       "      <th>feature_1</th>\n",
       "      <th>feature_2</th>\n",
       "      <th>feature_3</th>\n",
       "      <th>feature_4</th>\n",
       "    </tr>\n",
       "  </thead>\n",
       "  <tbody>\n",
       "    <tr>\n",
       "      <th>0_mean</th>\n",
       "      <td>4.975000</td>\n",
       "      <td>3.427273</td>\n",
       "      <td>1.459091</td>\n",
       "      <td>0.247727</td>\n",
       "    </tr>\n",
       "    <tr>\n",
       "      <th>0_std</th>\n",
       "      <td>0.344475</td>\n",
       "      <td>0.387817</td>\n",
       "      <td>0.179558</td>\n",
       "      <td>0.104522</td>\n",
       "    </tr>\n",
       "    <tr>\n",
       "      <th>1_mean</th>\n",
       "      <td>5.915909</td>\n",
       "      <td>2.777273</td>\n",
       "      <td>4.250000</td>\n",
       "      <td>1.322727</td>\n",
       "    </tr>\n",
       "    <tr>\n",
       "      <th>1_std</th>\n",
       "      <td>0.529565</td>\n",
       "      <td>0.321959</td>\n",
       "      <td>0.473728</td>\n",
       "      <td>0.205578</td>\n",
       "    </tr>\n",
       "    <tr>\n",
       "      <th>2_mean</th>\n",
       "      <td>6.559574</td>\n",
       "      <td>2.974468</td>\n",
       "      <td>5.542553</td>\n",
       "      <td>2.014894</td>\n",
       "    </tr>\n",
       "    <tr>\n",
       "      <th>2_std</th>\n",
       "      <td>0.633026</td>\n",
       "      <td>0.326022</td>\n",
       "      <td>0.525334</td>\n",
       "      <td>0.277394</td>\n",
       "    </tr>\n",
       "  </tbody>\n",
       "</table>\n",
       "</div>"
      ],
      "text/plain": [
       "feature  feature_1  feature_2  feature_3  feature_4\n",
       "0_mean    4.975000   3.427273   1.459091   0.247727\n",
       "0_std     0.344475   0.387817   0.179558   0.104522\n",
       "1_mean    5.915909   2.777273   4.250000   1.322727\n",
       "1_std     0.529565   0.321959   0.473728   0.205578\n",
       "2_mean    6.559574   2.974468   5.542553   2.014894\n",
       "2_std     0.633026   0.326022   0.525334   0.277394"
      ]
     },
     "execution_count": 8,
     "metadata": {},
     "output_type": "execute_result"
    }
   ],
   "source": [
    "stats_df.index = map(lambda x: '_'.join(map(str,x)), stats_df.index)\n",
    "stats_df = stats_df[sorted(stats_df.columns, key=lambda x: int(x.split('_')[1]))]\n",
    "qtd_classes = len(stats_df)//2\n",
    "stats_df"
   ]
  },
  {
   "cell_type": "markdown",
   "metadata": {
    "ExecuteTime": {
     "end_time": "2021-01-01T17:26:05.306623Z",
     "start_time": "2021-01-01T17:26:05.299635Z"
    },
    "heading_collapsed": true,
    "hidden": true
   },
   "source": [
    "### Plotando probabilidades"
   ]
  },
  {
   "cell_type": "markdown",
   "metadata": {
    "hidden": true
   },
   "source": [
    "Já que a gente calculou as médias e desvios padrões para cada feature e nossa premissa são distribuições gaussianas, nada mais justo que plotar umas distribuições gaussianas. No casa uma distribuição para cada feature e classe. Além disso, vamos selecionar um exemplo dos **dados de test** para ver em que posição ele se encontra nessas ditribuições."
   ]
  },
  {
   "cell_type": "code",
   "execution_count": 9,
   "metadata": {
    "ExecuteTime": {
     "end_time": "2021-01-02T03:16:46.714121Z",
     "start_time": "2021-01-02T03:16:46.707139Z"
    },
    "hidden": true
   },
   "outputs": [
    {
     "name": "stdout",
     "output_type": "stream",
     "text": [
      "Nosso exemplo é da classe: 0\n"
     ]
    }
   ],
   "source": [
    "select_id = 5\n",
    "point = df_test.iloc[select_id,:].to_dict()\n",
    "print(f\"Nosso exemplo é da classe: {int(df_test.iloc[select_id,-1])}\")"
   ]
  },
  {
   "cell_type": "code",
   "execution_count": 10,
   "metadata": {
    "ExecuteTime": {
     "end_time": "2021-01-02T03:16:48.005392Z",
     "start_time": "2021-01-02T03:16:46.715118Z"
    },
    "hidden": true
   },
   "outputs": [
    {
     "data": {
      "image/png": "[encoded data removed]",
      "text/plain": [
       "<Figure size 1440x288 with 1 Axes>"
      ]
     },
     "metadata": {},
     "output_type": "display_data"
    },
    {
     "data": {
      "image/png": "[encoded data removed]",
      "text/plain": [
       "<Figure size 1440x288 with 1 Axes>"
      ]
     },
     "metadata": {},
     "output_type": "display_data"
    },
    {
     "data": {
      "image/png": "[encoded data removed]",
      "text/plain": [
       "<Figure size 1440x288 with 1 Axes>"
      ]
     },
     "metadata": {},
     "output_type": "display_data"
    },
    {
     "data": {
      "image/png": "[encoded data removed]",
      "text/plain": [
       "<Figure size 1440x288 with 1 Axes>"
      ]
     },
     "metadata": {},
     "output_type": "display_data"
    }
   ],
   "source": [
    "result = stats_df.apply(gaussian_plot, args=[point], result_type = \"expand\")"
   ]
  },
  {
   "cell_type": "markdown",
   "metadata": {
    "hidden": true
   },
   "source": [
    "Esses pontos no gráfico representam o valor calculado pela seguinte equação $ P(feature|y)$. Como estamos plotando uma distribuição de de densidade esses pontos são conhecidos como ```likelihood``` de cada classe para o exemplo que está sendo analisado."
   ]
  },
  {
   "cell_type": "code",
   "execution_count": 11,
   "metadata": {
    "ExecuteTime": {
     "end_time": "2021-01-02T03:16:48.016388Z",
     "start_time": "2021-01-02T03:16:48.007385Z"
    },
    "hidden": true
   },
   "outputs": [
    {
     "data": {
      "text/html": [
       "<div>\n",
       "<style scoped>\n",
       "    .dataframe tbody tr th:only-of-type {\n",
       "        vertical-align: middle;\n",
       "    }\n",
       "\n",
       "    .dataframe tbody tr th {\n",
       "        vertical-align: top;\n",
       "    }\n",
       "\n",
       "    .dataframe thead th {\n",
       "        text-align: right;\n",
       "    }\n",
       "</style>\n",
       "<table border=\"1\" class=\"dataframe\">\n",
       "  <thead>\n",
       "    <tr style=\"text-align: right;\">\n",
       "      <th>feature</th>\n",
       "      <th>P(feature_1|y)</th>\n",
       "      <th>P(feature_2|y)</th>\n",
       "      <th>P(feature_3|y)</th>\n",
       "      <th>P(feature_4|y)</th>\n",
       "    </tr>\n",
       "    <tr>\n",
       "      <th>class</th>\n",
       "      <th></th>\n",
       "      <th></th>\n",
       "      <th></th>\n",
       "      <th></th>\n",
       "    </tr>\n",
       "  </thead>\n",
       "  <tbody>\n",
       "    <tr>\n",
       "      <th>0</th>\n",
       "      <td>-0.041924</td>\n",
       "      <td>0.598177</td>\n",
       "      <td>1.344731</td>\n",
       "      <td>0.850585</td>\n",
       "    </tr>\n",
       "    <tr>\n",
       "      <th>1</th>\n",
       "      <td>-0.185420</td>\n",
       "      <td>-1.083774</td>\n",
       "      <td>-16.448546</td>\n",
       "      <td>-8.837786</td>\n",
       "    </tr>\n",
       "    <tr>\n",
       "      <th>2</th>\n",
       "      <td>-1.567069</td>\n",
       "      <td>-0.077588</td>\n",
       "      <td>-29.310934</td>\n",
       "      <td>-16.010155</td>\n",
       "    </tr>\n",
       "  </tbody>\n",
       "</table>\n",
       "</div>"
      ],
      "text/plain": [
       "feature  P(feature_1|y)  P(feature_2|y)  P(feature_3|y)  P(feature_4|y)\n",
       "class                                                                  \n",
       "0             -0.041924        0.598177        1.344731        0.850585\n",
       "1             -0.185420       -1.083774      -16.448546       -8.837786\n",
       "2             -1.567069       -0.077588      -29.310934      -16.010155"
      ]
     },
     "execution_count": 11,
     "metadata": {},
     "output_type": "execute_result"
    }
   ],
   "source": [
    "cols = {col:fr\"P({col}|y)\" for col in result.columns}\n",
    "result.rename(columns=cols,inplace = True)\n",
    "result.index.name = \"class\"\n",
    "result"
   ]
  },
  {
   "cell_type": "code",
   "execution_count": 12,
   "metadata": {
    "ExecuteTime": {
     "end_time": "2021-01-02T03:16:48.024354Z",
     "start_time": "2021-01-02T03:16:48.018357Z"
    },
    "hidden": true
   },
   "outputs": [],
   "source": [
    "final_stats = pd.concat([prior_df,result],axis=1)"
   ]
  },
  {
   "cell_type": "code",
   "execution_count": 13,
   "metadata": {
    "ExecuteTime": {
     "end_time": "2021-01-02T03:16:48.037340Z",
     "start_time": "2021-01-02T03:16:48.026335Z"
    },
    "hidden": true
   },
   "outputs": [
    {
     "data": {
      "text/html": [
       "<div>\n",
       "<style scoped>\n",
       "    .dataframe tbody tr th:only-of-type {\n",
       "        vertical-align: middle;\n",
       "    }\n",
       "\n",
       "    .dataframe tbody tr th {\n",
       "        vertical-align: top;\n",
       "    }\n",
       "\n",
       "    .dataframe thead th {\n",
       "        text-align: right;\n",
       "    }\n",
       "</style>\n",
       "<table border=\"1\" class=\"dataframe\">\n",
       "  <thead>\n",
       "    <tr style=\"text-align: right;\">\n",
       "      <th></th>\n",
       "      <th>prior_probability</th>\n",
       "      <th>P(feature_1|y)</th>\n",
       "      <th>P(feature_2|y)</th>\n",
       "      <th>P(feature_3|y)</th>\n",
       "      <th>P(feature_4|y)</th>\n",
       "    </tr>\n",
       "    <tr>\n",
       "      <th>class</th>\n",
       "      <th></th>\n",
       "      <th></th>\n",
       "      <th></th>\n",
       "      <th></th>\n",
       "      <th></th>\n",
       "    </tr>\n",
       "  </thead>\n",
       "  <tbody>\n",
       "    <tr>\n",
       "      <th>0.0</th>\n",
       "      <td>0.333333</td>\n",
       "      <td>-0.041924</td>\n",
       "      <td>0.598177</td>\n",
       "      <td>1.344731</td>\n",
       "      <td>0.850585</td>\n",
       "    </tr>\n",
       "    <tr>\n",
       "      <th>1.0</th>\n",
       "      <td>0.333333</td>\n",
       "      <td>-0.185420</td>\n",
       "      <td>-1.083774</td>\n",
       "      <td>-16.448546</td>\n",
       "      <td>-8.837786</td>\n",
       "    </tr>\n",
       "    <tr>\n",
       "      <th>2.0</th>\n",
       "      <td>0.333333</td>\n",
       "      <td>-1.567069</td>\n",
       "      <td>-0.077588</td>\n",
       "      <td>-29.310934</td>\n",
       "      <td>-16.010155</td>\n",
       "    </tr>\n",
       "  </tbody>\n",
       "</table>\n",
       "</div>"
      ],
      "text/plain": [
       "       prior_probability  P(feature_1|y)  P(feature_2|y)  P(feature_3|y)  \\\n",
       "class                                                                      \n",
       "0.0             0.333333       -0.041924        0.598177        1.344731   \n",
       "1.0             0.333333       -0.185420       -1.083774      -16.448546   \n",
       "2.0             0.333333       -1.567069       -0.077588      -29.310934   \n",
       "\n",
       "       P(feature_4|y)  \n",
       "class                  \n",
       "0.0          0.850585  \n",
       "1.0         -8.837786  \n",
       "2.0        -16.010155  "
      ]
     },
     "execution_count": 13,
     "metadata": {},
     "output_type": "execute_result"
    }
   ],
   "source": [
    "final_stats"
   ]
  },
  {
   "cell_type": "markdown",
   "metadata": {
    "hidden": true
   },
   "source": [
    "Agora a gente tem todos as componentes para prever a classe desse exemplo com base nas features, basta somar as linhas."
   ]
  },
  {
   "cell_type": "code",
   "execution_count": 14,
   "metadata": {
    "ExecuteTime": {
     "end_time": "2021-01-02T03:16:48.045284Z",
     "start_time": "2021-01-02T03:16:48.038304Z"
    },
    "hidden": true
   },
   "outputs": [
    {
     "data": {
      "text/plain": [
       "class\n",
       "0.0     3.084902\n",
       "1.0   -26.222192\n",
       "2.0   -46.632413\n",
       "dtype: float64"
      ]
     },
     "execution_count": 14,
     "metadata": {},
     "output_type": "execute_result"
    }
   ],
   "source": [
    "final_stats.apply(lambda x: x.sum(), axis=1)"
   ]
  },
  {
   "cell_type": "markdown",
   "metadata": {
    "hidden": true
   },
   "source": [
    "Qual seria a classe desse modelo ?"
   ]
  },
  {
   "cell_type": "markdown",
   "metadata": {
    "heading_collapsed": true,
    "hidden": true
   },
   "source": [
    "### Prevendo para os dados de test"
   ]
  },
  {
   "cell_type": "code",
   "execution_count": 15,
   "metadata": {
    "ExecuteTime": {
     "end_time": "2021-01-02T03:16:48.050272Z",
     "start_time": "2021-01-02T03:16:48.046281Z"
    },
    "hidden": true
   },
   "outputs": [],
   "source": [
    "def get_gaussian_proba(s, stats_df, data):\n",
    "    \n",
    "    for feature_val in s:\n",
    "        \n",
    "        stats_ser = stats_df[f\"{s.name}\"]\n",
    "        for index, stats in enumerate(zip(stats_ser[0::2],stats_ser[1::2])):\n",
    "            mean, std = stats\n",
    "            data[f\"P({index}|{s.name})\"].append(gaussian(feature_val, mean, std))\n",
    "            \n",
    "    return None"
   ]
  },
  {
   "cell_type": "code",
   "execution_count": 16,
   "metadata": {
    "ExecuteTime": {
     "end_time": "2021-01-02T03:16:48.065264Z",
     "start_time": "2021-01-02T03:16:48.051270Z"
    },
    "hidden": true
   },
   "outputs": [],
   "source": [
    "qtd_samples = df_test.shape[1]-1\n",
    "data = {f\"P({i%qtd_classes}|feature_{(i//qtd_classes)+1})\":[] for i in range(qtd_samples*qtd_classes)}\n",
    "_ = df_test.iloc[:,:-1].apply(get_gaussian_proba, args = [stats_df,data])"
   ]
  },
  {
   "cell_type": "code",
   "execution_count": 17,
   "metadata": {
    "ExecuteTime": {
     "end_time": "2021-01-02T03:16:48.079197Z",
     "start_time": "2021-01-02T03:16:48.066228Z"
    },
    "hidden": true
   },
   "outputs": [
    {
     "data": {
      "text/html": [
       "<div>\n",
       "<style scoped>\n",
       "    .dataframe tbody tr th:only-of-type {\n",
       "        vertical-align: middle;\n",
       "    }\n",
       "\n",
       "    .dataframe tbody tr th {\n",
       "        vertical-align: top;\n",
       "    }\n",
       "\n",
       "    .dataframe thead th {\n",
       "        text-align: right;\n",
       "    }\n",
       "</style>\n",
       "<table border=\"1\" class=\"dataframe\">\n",
       "  <thead>\n",
       "    <tr style=\"text-align: right;\">\n",
       "      <th></th>\n",
       "      <th>P(0|feature_1)</th>\n",
       "      <th>P(1|feature_1)</th>\n",
       "      <th>P(2|feature_1)</th>\n",
       "      <th>P(0|feature_2)</th>\n",
       "      <th>P(1|feature_2)</th>\n",
       "      <th>P(2|feature_2)</th>\n",
       "      <th>P(0|feature_3)</th>\n",
       "      <th>P(1|feature_3)</th>\n",
       "      <th>P(2|feature_3)</th>\n",
       "      <th>P(0|feature_4)</th>\n",
       "      <th>P(1|feature_4)</th>\n",
       "      <th>P(2|feature_4)</th>\n",
       "    </tr>\n",
       "  </thead>\n",
       "  <tbody>\n",
       "    <tr>\n",
       "      <th>0</th>\n",
       "      <td>9.915039e-03</td>\n",
       "      <td>1.256970</td>\n",
       "      <td>0.858246</td>\n",
       "      <td>0.492915</td>\n",
       "      <td>2.190799</td>\n",
       "      <td>1.879542</td>\n",
       "      <td>7.127852e-71</td>\n",
       "      <td>9.506415e-01</td>\n",
       "      <td>3.719454e-01</td>\n",
       "      <td>6.397439e-18</td>\n",
       "      <td>2.878188</td>\n",
       "      <td>3.407353e-02</td>\n",
       "    </tr>\n",
       "    <tr>\n",
       "      <th>1</th>\n",
       "      <td>2.241089e-01</td>\n",
       "      <td>1.228769</td>\n",
       "      <td>0.444302</td>\n",
       "      <td>1.148895</td>\n",
       "      <td>0.014143</td>\n",
       "      <td>0.087893</td>\n",
       "      <td>1.601006e+00</td>\n",
       "      <td>7.623289e-07</td>\n",
       "      <td>3.245467e-12</td>\n",
       "      <td>5.969867e+00</td>\n",
       "      <td>0.000015</td>\n",
       "      <td>1.279980e-08</td>\n",
       "    </tr>\n",
       "    <tr>\n",
       "      <th>2</th>\n",
       "      <td>5.294056e-14</td>\n",
       "      <td>0.004581</td>\n",
       "      <td>0.220443</td>\n",
       "      <td>0.187397</td>\n",
       "      <td>1.887351</td>\n",
       "      <td>1.121401</td>\n",
       "      <td>1.629616e-199</td>\n",
       "      <td>2.393265e-07</td>\n",
       "      <td>4.777278e-02</td>\n",
       "      <td>1.302930e-83</td>\n",
       "      <td>0.000043</td>\n",
       "      <td>1.503135e+00</td>\n",
       "    </tr>\n",
       "  </tbody>\n",
       "</table>\n",
       "</div>"
      ],
      "text/plain": [
       "   P(0|feature_1)  P(1|feature_1)  P(2|feature_1)  P(0|feature_2)  \\\n",
       "0    9.915039e-03        1.256970        0.858246        0.492915   \n",
       "1    2.241089e-01        1.228769        0.444302        1.148895   \n",
       "2    5.294056e-14        0.004581        0.220443        0.187397   \n",
       "\n",
       "   P(1|feature_2)  P(2|feature_2)  P(0|feature_3)  P(1|feature_3)  \\\n",
       "0        2.190799        1.879542    7.127852e-71    9.506415e-01   \n",
       "1        0.014143        0.087893    1.601006e+00    7.623289e-07   \n",
       "2        1.887351        1.121401   1.629616e-199    2.393265e-07   \n",
       "\n",
       "   P(2|feature_3)  P(0|feature_4)  P(1|feature_4)  P(2|feature_4)  \n",
       "0    3.719454e-01    6.397439e-18        2.878188    3.407353e-02  \n",
       "1    3.245467e-12    5.969867e+00        0.000015    1.279980e-08  \n",
       "2    4.777278e-02    1.302930e-83        0.000043    1.503135e+00  "
      ]
     },
     "execution_count": 17,
     "metadata": {},
     "output_type": "execute_result"
    }
   ],
   "source": [
    "proba_test_df=pd.DataFrame(data)\n",
    "proba_test_df.head(3)"
   ]
  },
  {
   "cell_type": "code",
   "execution_count": 18,
   "metadata": {
    "ExecuteTime": {
     "end_time": "2021-01-02T03:16:48.095151Z",
     "start_time": "2021-01-02T03:16:48.080194Z"
    },
    "hidden": true
   },
   "outputs": [
    {
     "data": {
      "text/html": [
       "<div>\n",
       "<style scoped>\n",
       "    .dataframe tbody tr th:only-of-type {\n",
       "        vertical-align: middle;\n",
       "    }\n",
       "\n",
       "    .dataframe tbody tr th {\n",
       "        vertical-align: top;\n",
       "    }\n",
       "\n",
       "    .dataframe thead th {\n",
       "        text-align: right;\n",
       "    }\n",
       "</style>\n",
       "<table border=\"1\" class=\"dataframe\">\n",
       "  <thead>\n",
       "    <tr style=\"text-align: right;\">\n",
       "      <th></th>\n",
       "      <th>P(0|feature_1)</th>\n",
       "      <th>P(1|feature_1)</th>\n",
       "      <th>P(2|feature_1)</th>\n",
       "      <th>P(0|feature_2)</th>\n",
       "      <th>P(1|feature_2)</th>\n",
       "      <th>P(2|feature_2)</th>\n",
       "      <th>P(0|feature_3)</th>\n",
       "      <th>P(1|feature_3)</th>\n",
       "      <th>P(2|feature_3)</th>\n",
       "      <th>P(0|feature_4)</th>\n",
       "      <th>P(1|feature_4)</th>\n",
       "      <th>P(2|feature_4)</th>\n",
       "    </tr>\n",
       "  </thead>\n",
       "  <tbody>\n",
       "    <tr>\n",
       "      <th>0</th>\n",
       "      <td>-4.613703</td>\n",
       "      <td>0.228704</td>\n",
       "      <td>-0.152865</td>\n",
       "      <td>-0.707418</td>\n",
       "      <td>0.784266</td>\n",
       "      <td>0.631028</td>\n",
       "      <td>-161.519532</td>\n",
       "      <td>-0.050618</td>\n",
       "      <td>-0.989008</td>\n",
       "      <td>-39.590634</td>\n",
       "      <td>1.057161</td>\n",
       "      <td>-3.379234</td>\n",
       "    </tr>\n",
       "    <tr>\n",
       "      <th>1</th>\n",
       "      <td>-1.495623</td>\n",
       "      <td>0.206013</td>\n",
       "      <td>-0.811252</td>\n",
       "      <td>0.138801</td>\n",
       "      <td>-4.258565</td>\n",
       "      <td>-2.431635</td>\n",
       "      <td>0.470632</td>\n",
       "      <td>-14.086888</td>\n",
       "      <td>-26.453762</td>\n",
       "      <td>1.786725</td>\n",
       "      <td>-11.139437</td>\n",
       "      <td>-18.173836</td>\n",
       "    </tr>\n",
       "    <tr>\n",
       "      <th>2</th>\n",
       "      <td>-30.569607</td>\n",
       "      <td>-5.385876</td>\n",
       "      <td>-1.512115</td>\n",
       "      <td>-1.674525</td>\n",
       "      <td>0.635174</td>\n",
       "      <td>0.114579</td>\n",
       "      <td>-457.726089</td>\n",
       "      <td>-15.245437</td>\n",
       "      <td>-3.041299</td>\n",
       "      <td>-190.849947</td>\n",
       "      <td>-10.063900</td>\n",
       "      <td>0.407553</td>\n",
       "    </tr>\n",
       "  </tbody>\n",
       "</table>\n",
       "</div>"
      ],
      "text/plain": [
       "   P(0|feature_1)  P(1|feature_1)  P(2|feature_1)  P(0|feature_2)  \\\n",
       "0       -4.613703        0.228704       -0.152865       -0.707418   \n",
       "1       -1.495623        0.206013       -0.811252        0.138801   \n",
       "2      -30.569607       -5.385876       -1.512115       -1.674525   \n",
       "\n",
       "   P(1|feature_2)  P(2|feature_2)  P(0|feature_3)  P(1|feature_3)  \\\n",
       "0        0.784266        0.631028     -161.519532       -0.050618   \n",
       "1       -4.258565       -2.431635        0.470632      -14.086888   \n",
       "2        0.635174        0.114579     -457.726089      -15.245437   \n",
       "\n",
       "   P(2|feature_3)  P(0|feature_4)  P(1|feature_4)  P(2|feature_4)  \n",
       "0       -0.989008      -39.590634        1.057161       -3.379234  \n",
       "1      -26.453762        1.786725      -11.139437      -18.173836  \n",
       "2       -3.041299     -190.849947      -10.063900        0.407553  "
      ]
     },
     "execution_count": 18,
     "metadata": {},
     "output_type": "execute_result"
    }
   ],
   "source": [
    "proba_test_df = proba_test_df.applymap(np.log)\n",
    "proba_test_df.head(3)"
   ]
  },
  {
   "cell_type": "code",
   "execution_count": 19,
   "metadata": {
    "ExecuteTime": {
     "end_time": "2021-01-02T03:16:48.104128Z",
     "start_time": "2021-01-02T03:16:48.096151Z"
    },
    "hidden": true
   },
   "outputs": [],
   "source": [
    "final_proba_df = []\n",
    "\n",
    "for i in range(qtd_classes):\n",
    "    ser = proba_test_df.filter(regex = fr\"{i}\\|\").sum(axis=1)\n",
    "    ser.name = i\n",
    "    final_proba_df.append(ser)\n",
    "    \n",
    "final_proba_df = pd.concat(final_proba_df,axis=1)\n",
    "final_proba_df.columns.name = \"classes\"\n",
    "final_proba_df.index.name = \"samples\"\n",
    "final_proba_df = final_proba_df.T"
   ]
  },
  {
   "cell_type": "code",
   "execution_count": 20,
   "metadata": {
    "ExecuteTime": {
     "end_time": "2021-01-02T03:16:48.112107Z",
     "start_time": "2021-01-02T03:16:48.105126Z"
    },
    "hidden": true
   },
   "outputs": [
    {
     "data": {
      "text/plain": [
       "samples\n",
       "0    1\n",
       "1    0\n",
       "2    2\n",
       "3    1\n",
       "4    1\n",
       "dtype: int64"
      ]
     },
     "execution_count": 20,
     "metadata": {},
     "output_type": "execute_result"
    }
   ],
   "source": [
    "def find_class(x, prior_proba):\n",
    "    \n",
    "    best_value = {}\n",
    "    \n",
    "    for target, value in zip(x.index, x.values):\n",
    "        best_value[target] = prior_proba[target]*value\n",
    "        \n",
    "    return max(best_value, key=best_value.get)\n",
    "\n",
    "y_hat = final_proba_df.apply(find_class, args = [prior_df.to_dict()[\"prior_probability\"]])\n",
    "y_hat.head(5)"
   ]
  },
  {
   "cell_type": "code",
   "execution_count": 21,
   "metadata": {
    "ExecuteTime": {
     "end_time": "2021-01-02T03:16:48.118123Z",
     "start_time": "2021-01-02T03:16:48.113105Z"
    },
    "hidden": true
   },
   "outputs": [
    {
     "data": {
      "text/plain": [
       "array([1, 0, 2, 1, 1, 0, 1, 2, 1, 1, 2, 0, 0, 0, 0], dtype=int64)"
      ]
     },
     "execution_count": 21,
     "metadata": {},
     "output_type": "execute_result"
    }
   ],
   "source": [
    "y_hat.values"
   ]
  },
  {
   "cell_type": "code",
   "execution_count": 22,
   "metadata": {
    "ExecuteTime": {
     "end_time": "2021-01-02T03:16:48.125095Z",
     "start_time": "2021-01-02T03:16:48.121115Z"
    },
    "hidden": true
   },
   "outputs": [
    {
     "data": {
      "text/plain": [
       "array([1., 0., 2., 1., 1., 0., 1., 2., 1., 1., 2., 0., 0., 0., 0.])"
      ]
     },
     "execution_count": 22,
     "metadata": {},
     "output_type": "execute_result"
    }
   ],
   "source": [
    "df_test[\"target\"].reset_index(drop=True).values"
   ]
  },
  {
   "cell_type": "code",
   "execution_count": 23,
   "metadata": {
    "ExecuteTime": {
     "end_time": "2021-01-02T03:16:48.131090Z",
     "start_time": "2021-01-02T03:16:48.127066Z"
    },
    "hidden": true
   },
   "outputs": [
    {
     "data": {
      "text/plain": [
       "1.0"
      ]
     },
     "execution_count": 23,
     "metadata": {},
     "output_type": "execute_result"
    }
   ],
   "source": [
    "(df_test[\"target\"].reset_index(drop=True) == y_hat).sum()/len(y_hat)"
   ]
  },
  {
   "cell_type": "markdown",
   "metadata": {
    "heading_collapsed": true,
    "hidden": true
   },
   "source": [
    "## Prevendo usando o sklearn "
   ]
  },
  {
   "cell_type": "code",
   "execution_count": 24,
   "metadata": {
    "ExecuteTime": {
     "end_time": "2021-01-02T03:16:48.138037Z",
     "start_time": "2021-01-02T03:16:48.132055Z"
    },
    "hidden": true
   },
   "outputs": [],
   "source": [
    "gauss = GaussianNB()\n",
    "\n",
    "X_train = df_train.iloc[:,:-1]\n",
    "y_train = df_train.iloc[:,-1]\n",
    "X_test = df_test.iloc[:,:-1]\n",
    "y_test = df_test.iloc[:,-1]\n",
    "\n",
    "y_hat = gauss.fit(X_train, y_train).predict(X_test)"
   ]
  },
  {
   "cell_type": "code",
   "execution_count": 25,
   "metadata": {
    "ExecuteTime": {
     "end_time": "2021-01-02T03:16:48.144021Z",
     "start_time": "2021-01-02T03:16:48.139033Z"
    },
    "hidden": true
   },
   "outputs": [
    {
     "data": {
      "text/plain": [
       "1.0"
      ]
     },
     "execution_count": 25,
     "metadata": {},
     "output_type": "execute_result"
    }
   ],
   "source": [
    "(y_hat == y_test).sum()/len(y_hat)"
   ]
  }
 ],
 "metadata": {
  "hide_input": false,
  "kernelspec": {
   "display_name": "Python 3",
   "language": "python",
   "name": "python3"
  },
  "language_info": {
   "codemirror_mode": {
    "name": "ipython",
    "version": 3
   },
   "file_extension": ".py",
   "mimetype": "text/x-python",
   "name": "python",
   "nbconvert_exporter": "python",
   "pygments_lexer": "ipython3",
   "version": "3.7.7"
  },
  "varInspector": {
   "cols": {
    "lenName": 16,
    "lenType": 16,
    "lenVar": 40
   },
   "kernels_config": {
    "python": {
     "delete_cmd_postfix": "",
     "delete_cmd_prefix": "del ",
     "library": "var_list.py",
     "varRefreshCmd": "print(var_dic_list())"
    },
    "r": {
     "delete_cmd_postfix": ") ",
     "delete_cmd_prefix": "rm(",
     "library": "var_list.r",
     "varRefreshCmd": "cat(var_dic_list()) "
    }
   },
   "types_to_exclude": [
    "module",
    "function",
    "builtin_function_or_method",
    "instance",
    "_Feature"
   ],
   "window_display": false
  }
 },
 "nbformat": 4,
 "nbformat_minor": 4
}
