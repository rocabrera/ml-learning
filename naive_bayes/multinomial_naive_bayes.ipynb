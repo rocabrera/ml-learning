{
 "cells": [
  {
   "cell_type": "code",
   "execution_count": 1,
   "id": "a6418767-aded-415b-87e9-3877dfc0df66",
   "metadata": {},
   "outputs": [],
   "source": [
    "import pandas as pd\n",
    "import numpy as np\n",
    "from sklearn.feature_extraction.text import CountVectorizer, TfidfTransformer\n",
    "from sklearn.naive_bayes import MultinomialNB\n",
    "\n",
    "import nltk\n",
    "from nltk.corpus import stopwords\n",
    "from nltk.tokenize import word_tokenize\n",
    "from nltk.stem import RSLPStemmer"
   ]
  },
  {
   "cell_type": "markdown",
   "id": "0454487d-0699-42fe-b0f8-b82565f45d86",
   "metadata": {},
   "source": [
    "# **Pipeline** \n",
    "\n",
    "- **Tokenizer** (eg. word tokenizer)\n",
    "- **Stopword** (eg. portuguese)\n",
    "- **Count Vectorize**\n",
    "- **Tf-idf**\n",
    "- **Modeling**"
   ]
  },
  {
   "cell_type": "markdown",
   "id": "22d1467d-6aaf-4b20-b6c0-275cfae56b1c",
   "metadata": {},
   "source": [
    "## **Tokenizer**"
   ]
  },
  {
   "cell_type": "code",
   "execution_count": 2,
   "id": "7cef4381-f218-4bcd-a671-f9d65b6a2dfc",
   "metadata": {},
   "outputs": [
    {
     "name": "stdout",
     "output_type": "stream",
     "text": [
      "estudar machine learning é muito legal\n"
     ]
    }
   ],
   "source": [
    "\"\"\"\n",
    "Maiusculo e minusculo importa para nosso problema?\n",
    "\"\"\"\n",
    "\n",
    "document1_s = \"Estudar machine Learning é muito legal\"\n",
    "document2_s = \"Aplicações de machine learning em texto são bem interessantes\"\n",
    "document3_n = \"Eu nunca consegui aplicar ml em texto, mas já consegui aplicar em imagens.\"\n",
    "document4_n = \"Nunca entendi machine learning, não acho muito interessante.\"\n",
    "\n",
    "classes = np.array([1,1,0,0])\n",
    "\n",
    "documents = [document1_s,document2_s,document3_n,document4_n]\n",
    "documents_lower = [document.lower() for document in documents]\n",
    "print(documents_lower[0])"
   ]
  },
  {
   "cell_type": "code",
   "execution_count": 3,
   "id": "399f9432-78f2-404c-99ce-3352a9ee7da1",
   "metadata": {},
   "outputs": [
    {
     "data": {
      "text/plain": [
       "['nunca',\n",
       " 'entendi',\n",
       " 'machine',\n",
       " 'learning',\n",
       " ',',\n",
       " 'não',\n",
       " 'acho',\n",
       " 'muito',\n",
       " 'interessante',\n",
       " '.']"
      ]
     },
     "execution_count": 3,
     "metadata": {},
     "output_type": "execute_result"
    }
   ],
   "source": [
    "\"\"\"\n",
    "Perceba que é diferente do método split das strings.\n",
    "\"\"\"\n",
    "documents_tok = [word_tokenize(document) for document in documents_lower]\n",
    "documents_tok[3]"
   ]
  },
  {
   "cell_type": "markdown",
   "id": "77beedc0-b121-483b-ae69-49231c00bc9a",
   "metadata": {},
   "source": [
    "## **Stopword** "
   ]
  },
  {
   "cell_type": "code",
   "execution_count": 4,
   "id": "74c96dd3-1660-43f6-90e8-52ada0fcae79",
   "metadata": {},
   "outputs": [
    {
     "data": {
      "text/plain": [
       "['estudar machine learning legal',\n",
       " 'aplicações machine learning texto bem interessantes',\n",
       " 'nunca consegui aplicar ml texto consegui aplicar imagens',\n",
       " 'nunca entendi machine learning acho interessante']"
      ]
     },
     "execution_count": 4,
     "metadata": {},
     "output_type": "execute_result"
    }
   ],
   "source": [
    "\"\"\"\n",
    "O que consideramos tokens?\n",
    "- Não estão na lista de stopwords.\n",
    "- O método isalnum() retorna True caso a string seja alphanumeric (a-z e 0-9).\n",
    "\"\"\"\n",
    "\n",
    "stopwords_portuguese = stopwords.words('portuguese')\n",
    "documents = [\" \".join([word for word in document if not word in stopwords_portuguese and word.isalnum()]) \n",
    "             for document in documents_tok]\n",
    "    \n",
    "documents"
   ]
  },
  {
   "cell_type": "markdown",
   "id": "41412bcc-5654-4701-885e-54da374e1795",
   "metadata": {},
   "source": [
    "## **Stemming**"
   ]
  },
  {
   "cell_type": "code",
   "execution_count": 5,
   "id": "860446b4-64de-41d7-a687-0d3a5c1f909d",
   "metadata": {},
   "outputs": [
    {
     "data": {
      "text/plain": [
       "['estud machin learning legal',\n",
       " 'aplic machin learning text bem interess',\n",
       " 'nunc consegu aplic ml text consegu aplic imag',\n",
       " 'nunc entend machin learning ach interess']"
      ]
     },
     "execution_count": 5,
     "metadata": {},
     "output_type": "execute_result"
    }
   ],
   "source": [
    "\"\"\"\n",
    "Outro preprocessamento comum é lemmarizar as palavras.\n",
    "Perceba que algumas palavras se tornaram a mesma em documentos diferentes.\n",
    "\"\"\"\n",
    "\n",
    "stemmer = RSLPStemmer()\n",
    "stopwords_portuguese = stopwords.words('portuguese')\n",
    "\n",
    "\n",
    "documents = [\" \".join([stemmer.stem(word) for word in document if not word in stopwords_portuguese and word.isalnum()]) \n",
    "             for document in documents_tok]\n",
    "    \n",
    "documents"
   ]
  },
  {
   "cell_type": "markdown",
   "id": "4fd261f5-b5f8-433b-a6d6-0c06d9ffeae0",
   "metadata": {},
   "source": [
    "## **Count Vectorizer** "
   ]
  },
  {
   "cell_type": "code",
   "execution_count": 6,
   "id": "6787840d-db53-4cfd-b885-c0752a2046d1",
   "metadata": {
    "tags": []
   },
   "outputs": [],
   "source": [
    "vectorizer = CountVectorizer()"
   ]
  },
  {
   "cell_type": "code",
   "execution_count": 7,
   "id": "8bc2c2db-2245-425b-b1a2-4a944c4cff68",
   "metadata": {},
   "outputs": [],
   "source": [
    "\"\"\"\n",
    "O mesmo que:\n",
    "\n",
    "X = vectorizer.fit_transform(documents)\n",
    "\"\"\"\n",
    "vectorizer.fit(documents) # Learn a vocabulary dictionary of all tokens in the raw documents.\n",
    "X=vectorizer.transform(documents) # Learn the vocabulary dictionary and return document-term matrix."
   ]
  },
  {
   "cell_type": "code",
   "execution_count": 8,
   "id": "fb369fd6-141c-4441-bd3b-1dfeed36040a",
   "metadata": {},
   "outputs": [
    {
     "data": {
      "text/html": [
       "<div>\n",
       "<style scoped>\n",
       "    .dataframe tbody tr th:only-of-type {\n",
       "        vertical-align: middle;\n",
       "    }\n",
       "\n",
       "    .dataframe tbody tr th {\n",
       "        vertical-align: top;\n",
       "    }\n",
       "\n",
       "    .dataframe thead th {\n",
       "        text-align: right;\n",
       "    }\n",
       "</style>\n",
       "<table border=\"1\" class=\"dataframe\">\n",
       "  <thead>\n",
       "    <tr style=\"text-align: right;\">\n",
       "      <th></th>\n",
       "      <th>ach</th>\n",
       "      <th>aplic</th>\n",
       "      <th>bem</th>\n",
       "      <th>consegu</th>\n",
       "      <th>entend</th>\n",
       "      <th>estud</th>\n",
       "      <th>imag</th>\n",
       "      <th>interess</th>\n",
       "      <th>learning</th>\n",
       "      <th>legal</th>\n",
       "      <th>machin</th>\n",
       "      <th>ml</th>\n",
       "      <th>nunc</th>\n",
       "      <th>text</th>\n",
       "      <th>classes</th>\n",
       "    </tr>\n",
       "  </thead>\n",
       "  <tbody>\n",
       "    <tr>\n",
       "      <th>0</th>\n",
       "      <td>0</td>\n",
       "      <td>0</td>\n",
       "      <td>0</td>\n",
       "      <td>0</td>\n",
       "      <td>0</td>\n",
       "      <td>1</td>\n",
       "      <td>0</td>\n",
       "      <td>0</td>\n",
       "      <td>1</td>\n",
       "      <td>1</td>\n",
       "      <td>1</td>\n",
       "      <td>0</td>\n",
       "      <td>0</td>\n",
       "      <td>0</td>\n",
       "      <td>1</td>\n",
       "    </tr>\n",
       "    <tr>\n",
       "      <th>1</th>\n",
       "      <td>0</td>\n",
       "      <td>1</td>\n",
       "      <td>1</td>\n",
       "      <td>0</td>\n",
       "      <td>0</td>\n",
       "      <td>0</td>\n",
       "      <td>0</td>\n",
       "      <td>1</td>\n",
       "      <td>1</td>\n",
       "      <td>0</td>\n",
       "      <td>1</td>\n",
       "      <td>0</td>\n",
       "      <td>0</td>\n",
       "      <td>1</td>\n",
       "      <td>1</td>\n",
       "    </tr>\n",
       "    <tr>\n",
       "      <th>2</th>\n",
       "      <td>0</td>\n",
       "      <td>2</td>\n",
       "      <td>0</td>\n",
       "      <td>2</td>\n",
       "      <td>0</td>\n",
       "      <td>0</td>\n",
       "      <td>1</td>\n",
       "      <td>0</td>\n",
       "      <td>0</td>\n",
       "      <td>0</td>\n",
       "      <td>0</td>\n",
       "      <td>1</td>\n",
       "      <td>1</td>\n",
       "      <td>1</td>\n",
       "      <td>0</td>\n",
       "    </tr>\n",
       "    <tr>\n",
       "      <th>3</th>\n",
       "      <td>1</td>\n",
       "      <td>0</td>\n",
       "      <td>0</td>\n",
       "      <td>0</td>\n",
       "      <td>1</td>\n",
       "      <td>0</td>\n",
       "      <td>0</td>\n",
       "      <td>1</td>\n",
       "      <td>1</td>\n",
       "      <td>0</td>\n",
       "      <td>1</td>\n",
       "      <td>0</td>\n",
       "      <td>1</td>\n",
       "      <td>0</td>\n",
       "      <td>0</td>\n",
       "    </tr>\n",
       "  </tbody>\n",
       "</table>\n",
       "</div>"
      ],
      "text/plain": [
       "   ach  aplic  bem  consegu  entend  estud  imag  interess  learning  legal  \\\n",
       "0    0      0    0        0       0      1     0         0         1      1   \n",
       "1    0      1    1        0       0      0     0         1         1      0   \n",
       "2    0      2    0        2       0      0     1         0         0      0   \n",
       "3    1      0    0        0       1      0     0         1         1      0   \n",
       "\n",
       "   machin  ml  nunc  text  classes  \n",
       "0       1   0     0     0        1  \n",
       "1       1   0     0     1        1  \n",
       "2       0   1     1     1        0  \n",
       "3       1   0     1     0        0  "
      ]
     },
     "execution_count": 8,
     "metadata": {},
     "output_type": "execute_result"
    }
   ],
   "source": [
    "data = np.hstack([X.toarray(),classes.reshape(-1,1)])\n",
    "columns = vectorizer.get_feature_names() + [\"classes\"]\n",
    "df = pd.DataFrame(data,columns=columns)\n",
    "df"
   ]
  },
  {
   "cell_type": "markdown",
   "id": "29e32004-81ab-4516-94ea-2099b9552ca5",
   "metadata": {},
   "source": [
    "## **Modelagem** "
   ]
  },
  {
   "cell_type": "markdown",
   "id": "4e208300-825c-4026-ad70-804d52aa7dcb",
   "metadata": {},
   "source": [
    "Agora podemos calcular a probabilidade de cada documento pertencer a uma certa classe:\n",
    "\n",
    " - $$\n",
    "P(y|x_1, ..., x_n) \\propto P(y)\\prod_{i=1}^{n}P(x_i|y) \\\\\n",
    "$$\n",
    "\n",
    "Como vamos trabalhar com números pequenos utilizamos um truque matemático para previnir underflow. Basicamente aplicamos a operação logaritimica, assim as multiplicações viram somas:\n",
    " - $$\n",
    "logP(y|x_1, ..., x_n) \\propto logP(y) + \\sum_{i=1}^{n}logP(x_i|y) \\\\\n",
    "$$\n"
   ]
  },
  {
   "cell_type": "code",
   "execution_count": 9,
   "id": "b2f0b2bd-ec93-49af-b5ac-9130fecee39a",
   "metadata": {},
   "outputs": [
    {
     "data": {
      "text/plain": [
       "0    0.5\n",
       "1    0.5\n",
       "Name: classes, dtype: float64"
      ]
     },
     "execution_count": 9,
     "metadata": {},
     "output_type": "execute_result"
    }
   ],
   "source": [
    "\"\"\"\n",
    "Probabilidade a priori - Py\n",
    "\"\"\"\n",
    "py=df[\"classes\"].value_counts(normalize=True)\n",
    "py"
   ]
  },
  {
   "cell_type": "markdown",
   "id": "53ec213f-8173-4517-8216-ab9a44899c6a",
   "metadata": {},
   "source": [
    "$$\n",
    "P(x_i|y) = \\frac{N_{yi} + \\alpha}{N_y + \\alpha n} \n",
    "$$\n",
    "\n",
    "onde,\n",
    "- $N_{yi}$ é o numero de vezes que a feature $i$ aparece na classe $y$.\n",
    "- $N_y = \\sum_{i=1}^{n} N_{yi}$, isto é, total de ocorrência das features para a classe $y$.\n",
    "- $n$ é o número de features.\n",
    "- $\\alpha$ é um parâmetro.\n",
    "> The smoothing priors $\\alpha \\geq 0$  accounts for features not present in the learning samples and prevents zero probabilities in further computations. Setting $\\alpha = 1$ is called Laplace smoothing, while $\\alpha \\leq 1$ is called Lidstone smoothing."
   ]
  },
  {
   "cell_type": "code",
   "execution_count": 10,
   "id": "0a8ab0e9-d017-4540-a1f7-c587125d1a62",
   "metadata": {},
   "outputs": [
    {
     "data": {
      "text/html": [
       "<div>\n",
       "<style scoped>\n",
       "    .dataframe tbody tr th:only-of-type {\n",
       "        vertical-align: middle;\n",
       "    }\n",
       "\n",
       "    .dataframe tbody tr th {\n",
       "        vertical-align: top;\n",
       "    }\n",
       "\n",
       "    .dataframe thead th {\n",
       "        text-align: right;\n",
       "    }\n",
       "</style>\n",
       "<table border=\"1\" class=\"dataframe\">\n",
       "  <thead>\n",
       "    <tr style=\"text-align: right;\">\n",
       "      <th></th>\n",
       "      <th>ach</th>\n",
       "      <th>aplic</th>\n",
       "      <th>bem</th>\n",
       "      <th>consegu</th>\n",
       "      <th>entend</th>\n",
       "      <th>estud</th>\n",
       "      <th>imag</th>\n",
       "      <th>interess</th>\n",
       "      <th>learning</th>\n",
       "      <th>legal</th>\n",
       "      <th>machin</th>\n",
       "      <th>ml</th>\n",
       "      <th>nunc</th>\n",
       "      <th>text</th>\n",
       "    </tr>\n",
       "    <tr>\n",
       "      <th>classes</th>\n",
       "      <th></th>\n",
       "      <th></th>\n",
       "      <th></th>\n",
       "      <th></th>\n",
       "      <th></th>\n",
       "      <th></th>\n",
       "      <th></th>\n",
       "      <th></th>\n",
       "      <th></th>\n",
       "      <th></th>\n",
       "      <th></th>\n",
       "      <th></th>\n",
       "      <th></th>\n",
       "      <th></th>\n",
       "    </tr>\n",
       "  </thead>\n",
       "  <tbody>\n",
       "    <tr>\n",
       "      <th>0</th>\n",
       "      <td>1</td>\n",
       "      <td>2</td>\n",
       "      <td>0</td>\n",
       "      <td>2</td>\n",
       "      <td>1</td>\n",
       "      <td>0</td>\n",
       "      <td>1</td>\n",
       "      <td>1</td>\n",
       "      <td>1</td>\n",
       "      <td>0</td>\n",
       "      <td>1</td>\n",
       "      <td>1</td>\n",
       "      <td>2</td>\n",
       "      <td>1</td>\n",
       "    </tr>\n",
       "    <tr>\n",
       "      <th>1</th>\n",
       "      <td>0</td>\n",
       "      <td>1</td>\n",
       "      <td>1</td>\n",
       "      <td>0</td>\n",
       "      <td>0</td>\n",
       "      <td>1</td>\n",
       "      <td>0</td>\n",
       "      <td>1</td>\n",
       "      <td>2</td>\n",
       "      <td>1</td>\n",
       "      <td>2</td>\n",
       "      <td>0</td>\n",
       "      <td>0</td>\n",
       "      <td>1</td>\n",
       "    </tr>\n",
       "  </tbody>\n",
       "</table>\n",
       "</div>"
      ],
      "text/plain": [
       "         ach  aplic  bem  consegu  entend  estud  imag  interess  learning  \\\n",
       "classes                                                                      \n",
       "0          1      2    0        2       1      0     1         1         1   \n",
       "1          0      1    1        0       0      1     0         1         2   \n",
       "\n",
       "         legal  machin  ml  nunc  text  \n",
       "classes                                 \n",
       "0            0       1   1     2     1  \n",
       "1            1       2   0     0     1  "
      ]
     },
     "execution_count": 10,
     "metadata": {},
     "output_type": "execute_result"
    }
   ],
   "source": [
    "\"\"\"\n",
    "Nyi\n",
    "\"\"\"\n",
    "nyi=df.groupby(\"classes\").agg(sum)\n",
    "nyi"
   ]
  },
  {
   "cell_type": "code",
   "execution_count": 11,
   "id": "a7a296e5-d538-410c-ac5b-554df0c24c6c",
   "metadata": {},
   "outputs": [
    {
     "data": {
      "text/plain": [
       "classes\n",
       "0    14\n",
       "1    10\n",
       "dtype: int64"
      ]
     },
     "execution_count": 11,
     "metadata": {},
     "output_type": "execute_result"
    }
   ],
   "source": [
    "\"\"\"\n",
    "Ny\n",
    "\"\"\"\n",
    "ny=nyi.apply(sum,axis=1)\n",
    "ny"
   ]
  },
  {
   "cell_type": "code",
   "execution_count": 12,
   "id": "88431454-1774-4235-925b-6e689a4d4953",
   "metadata": {
    "tags": []
   },
   "outputs": [],
   "source": [
    "n = len(df.columns)-1\n",
    "aux=pd.DataFrame\n",
    "alpha = 0.1\n",
    "p_xy = (nyi+alpha).div((ny + alpha*n),axis=0)"
   ]
  },
  {
   "cell_type": "code",
   "execution_count": 13,
   "id": "db8a1091-59e1-45d1-a1a8-da1e9a96eda6",
   "metadata": {},
   "outputs": [
    {
     "data": {
      "text/html": [
       "<div>\n",
       "<style scoped>\n",
       "    .dataframe tbody tr th:only-of-type {\n",
       "        vertical-align: middle;\n",
       "    }\n",
       "\n",
       "    .dataframe tbody tr th {\n",
       "        vertical-align: top;\n",
       "    }\n",
       "\n",
       "    .dataframe thead th {\n",
       "        text-align: right;\n",
       "    }\n",
       "</style>\n",
       "<table border=\"1\" class=\"dataframe\">\n",
       "  <thead>\n",
       "    <tr style=\"text-align: right;\">\n",
       "      <th></th>\n",
       "      <th>ach</th>\n",
       "      <th>aplic</th>\n",
       "      <th>bem</th>\n",
       "      <th>consegu</th>\n",
       "      <th>entend</th>\n",
       "      <th>estud</th>\n",
       "      <th>imag</th>\n",
       "      <th>interess</th>\n",
       "      <th>learning</th>\n",
       "      <th>legal</th>\n",
       "      <th>machin</th>\n",
       "      <th>ml</th>\n",
       "      <th>nunc</th>\n",
       "      <th>text</th>\n",
       "    </tr>\n",
       "    <tr>\n",
       "      <th>classes</th>\n",
       "      <th></th>\n",
       "      <th></th>\n",
       "      <th></th>\n",
       "      <th></th>\n",
       "      <th></th>\n",
       "      <th></th>\n",
       "      <th></th>\n",
       "      <th></th>\n",
       "      <th></th>\n",
       "      <th></th>\n",
       "      <th></th>\n",
       "      <th></th>\n",
       "      <th></th>\n",
       "      <th></th>\n",
       "    </tr>\n",
       "  </thead>\n",
       "  <tbody>\n",
       "    <tr>\n",
       "      <th>0</th>\n",
       "      <td>0.071429</td>\n",
       "      <td>0.136364</td>\n",
       "      <td>0.006494</td>\n",
       "      <td>0.136364</td>\n",
       "      <td>0.071429</td>\n",
       "      <td>0.006494</td>\n",
       "      <td>0.071429</td>\n",
       "      <td>0.071429</td>\n",
       "      <td>0.071429</td>\n",
       "      <td>0.006494</td>\n",
       "      <td>0.071429</td>\n",
       "      <td>0.071429</td>\n",
       "      <td>0.136364</td>\n",
       "      <td>0.071429</td>\n",
       "    </tr>\n",
       "    <tr>\n",
       "      <th>1</th>\n",
       "      <td>0.008772</td>\n",
       "      <td>0.096491</td>\n",
       "      <td>0.096491</td>\n",
       "      <td>0.008772</td>\n",
       "      <td>0.008772</td>\n",
       "      <td>0.096491</td>\n",
       "      <td>0.008772</td>\n",
       "      <td>0.096491</td>\n",
       "      <td>0.184211</td>\n",
       "      <td>0.096491</td>\n",
       "      <td>0.184211</td>\n",
       "      <td>0.008772</td>\n",
       "      <td>0.008772</td>\n",
       "      <td>0.096491</td>\n",
       "    </tr>\n",
       "  </tbody>\n",
       "</table>\n",
       "</div>"
      ],
      "text/plain": [
       "              ach     aplic       bem   consegu    entend     estud      imag  \\\n",
       "classes                                                                         \n",
       "0        0.071429  0.136364  0.006494  0.136364  0.071429  0.006494  0.071429   \n",
       "1        0.008772  0.096491  0.096491  0.008772  0.008772  0.096491  0.008772   \n",
       "\n",
       "         interess  learning     legal    machin        ml      nunc      text  \n",
       "classes                                                                        \n",
       "0        0.071429  0.071429  0.006494  0.071429  0.071429  0.136364  0.071429  \n",
       "1        0.096491  0.184211  0.096491  0.184211  0.008772  0.008772  0.096491  "
      ]
     },
     "execution_count": 13,
     "metadata": {},
     "output_type": "execute_result"
    }
   ],
   "source": [
    "p_xy"
   ]
  },
  {
   "cell_type": "markdown",
   "id": "7782a7ea-5559-4e7d-917c-62f04d4ca538",
   "metadata": {},
   "source": [
    "O maior valor representa a classe predita!"
   ]
  },
  {
   "cell_type": "code",
   "execution_count": 14,
   "id": "e05eabb0-b8fe-44f3-9875-5285e2f9ed57",
   "metadata": {},
   "outputs": [],
   "source": [
    "def processing(document):\n",
    "    # lower case\n",
    "    document=document.lower()\n",
    "    # tokenizing\n",
    "    tokens = word_tokenize(document)\n",
    "    # stemming, only words, not stopwords\n",
    "    return [stemmer.stem(word) for word in tokens if not word in stopwords_portuguese and word.isalnum()]"
   ]
  },
  {
   "cell_type": "code",
   "execution_count": 15,
   "id": "f979eafb-c1f3-4d59-911a-9e945d1c4a51",
   "metadata": {},
   "outputs": [
    {
     "data": {
      "text/plain": [
       "['aplic', 'machin', 'learning', 'bem', 'legal']"
      ]
     },
     "execution_count": 15,
     "metadata": {},
     "output_type": "execute_result"
    }
   ],
   "source": [
    "document1 = \"Aplicações de machine learning são bem legais!\"\n",
    "\n",
    "filtered_tokens = processing(document1)\n",
    "filtered_tokens"
   ]
  },
  {
   "cell_type": "code",
   "execution_count": 16,
   "id": "3173756f-de53-4d55-8acf-364df1226de8",
   "metadata": {},
   "outputs": [
    {
     "data": {
      "text/html": [
       "<div>\n",
       "<style scoped>\n",
       "    .dataframe tbody tr th:only-of-type {\n",
       "        vertical-align: middle;\n",
       "    }\n",
       "\n",
       "    .dataframe tbody tr th {\n",
       "        vertical-align: top;\n",
       "    }\n",
       "\n",
       "    .dataframe thead th {\n",
       "        text-align: right;\n",
       "    }\n",
       "</style>\n",
       "<table border=\"1\" class=\"dataframe\">\n",
       "  <thead>\n",
       "    <tr style=\"text-align: right;\">\n",
       "      <th></th>\n",
       "      <th>aplic</th>\n",
       "      <th>machin</th>\n",
       "      <th>learning</th>\n",
       "      <th>bem</th>\n",
       "      <th>legal</th>\n",
       "    </tr>\n",
       "    <tr>\n",
       "      <th>classes</th>\n",
       "      <th></th>\n",
       "      <th></th>\n",
       "      <th></th>\n",
       "      <th></th>\n",
       "      <th></th>\n",
       "    </tr>\n",
       "  </thead>\n",
       "  <tbody>\n",
       "    <tr>\n",
       "      <th>0</th>\n",
       "      <td>0.136364</td>\n",
       "      <td>0.071429</td>\n",
       "      <td>0.071429</td>\n",
       "      <td>0.006494</td>\n",
       "      <td>0.006494</td>\n",
       "    </tr>\n",
       "    <tr>\n",
       "      <th>1</th>\n",
       "      <td>0.096491</td>\n",
       "      <td>0.184211</td>\n",
       "      <td>0.184211</td>\n",
       "      <td>0.096491</td>\n",
       "      <td>0.096491</td>\n",
       "    </tr>\n",
       "  </tbody>\n",
       "</table>\n",
       "</div>"
      ],
      "text/plain": [
       "            aplic    machin  learning       bem     legal\n",
       "classes                                                  \n",
       "0        0.136364  0.071429  0.071429  0.006494  0.006494\n",
       "1        0.096491  0.184211  0.184211  0.096491  0.096491"
      ]
     },
     "execution_count": 16,
     "metadata": {},
     "output_type": "execute_result"
    }
   ],
   "source": [
    "p_xy.filter(filtered_tokens)"
   ]
  },
  {
   "cell_type": "code",
   "execution_count": 17,
   "id": "a257e493-5ec3-479f-b072-0a68d515ccb0",
   "metadata": {},
   "outputs": [
    {
     "data": {
      "text/plain": [
       "classes\n",
       "0   -16.844450\n",
       "1    -9.898262\n",
       "dtype: float64"
      ]
     },
     "execution_count": 17,
     "metadata": {},
     "output_type": "execute_result"
    }
   ],
   "source": [
    "p_xy.filter(filtered_tokens).applymap(np.log).sum(axis=1) + py"
   ]
  }
 ],
 "metadata": {
  "kernelspec": {
   "display_name": "venv_nlp",
   "language": "python",
   "name": "venv_nlp"
  },
  "language_info": {
   "codemirror_mode": {
    "name": "ipython",
    "version": 3
   },
   "file_extension": ".py",
   "mimetype": "text/x-python",
   "name": "python",
   "nbconvert_exporter": "python",
   "pygments_lexer": "ipython3",
   "version": "3.9.4"
  }
 },
 "nbformat": 4,
 "nbformat_minor": 5
}
