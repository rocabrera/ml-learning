{
 "cells": [
  {
   "cell_type": "code",
   "execution_count": null,
   "id": "3554848a-1867-4c1d-a806-6b20ed328e13",
   "metadata": {},
   "outputs": [],
   "source": []
  },
  {
   "cell_type": "code",
   "execution_count": null,
   "id": "6ecea13c-027c-4530-82c6-3587a5ae41c5",
   "metadata": {},
   "outputs": [],
   "source": []
  },
  {
   "cell_type": "code",
   "execution_count": null,
   "id": "be7930f6-6877-4abe-a9c1-10a00725179a",
   "metadata": {},
   "outputs": [],
   "source": []
  },
  {
   "cell_type": "code",
   "execution_count": null,
   "id": "d9eea2b2-6e8d-4fec-9cb2-11ade8694b89",
   "metadata": {},
   "outputs": [],
   "source": []
  },
  {
   "cell_type": "code",
   "execution_count": null,
   "id": "6890fe6e-aeb0-432e-8750-d64b4469897d",
   "metadata": {},
   "outputs": [],
   "source": []
  },
  {
   "cell_type": "code",
   "execution_count": null,
   "id": "dc6940e1-33b9-4140-9cd6-296b508ef238",
   "metadata": {},
   "outputs": [],
   "source": []
  },
  {
   "cell_type": "markdown",
   "id": "01928d1a-5122-4529-a3f0-a891e3cc4f6b",
   "metadata": {},
   "source": [
    "# **Attention Mechanism** "
   ]
  },
  {
   "cell_type": "code",
   "execution_count": null,
   "id": "1346f90d-fca6-4f02-b95a-d1c6513ae991",
   "metadata": {},
   "outputs": [],
   "source": []
  },
  {
   "cell_type": "markdown",
   "id": "d7ffd914-ab7c-4cdb-9e67-5162aa7e94f2",
   "metadata": {},
   "source": [
    "<center><img src=\"figures/rnn_short_memory_example.png\" width=400/></center>"
   ]
  },
  {
   "cell_type": "code",
   "execution_count": null,
   "id": "f6319fd6-dbf1-4227-a5f5-3feb35562aa3",
   "metadata": {},
   "outputs": [],
   "source": []
  },
  {
   "cell_type": "markdown",
   "id": "49ab8c63-443e-4700-abd0-7485de5fe4ea",
   "metadata": {},
   "source": [
    "Attention Mechanism does not suffer from short term memory. It has an infinite reference window. \n",
    "\n",
    "ps: Supondo que temos infinitos recursos computacionais"
   ]
  },
  {
   "cell_type": "code",
   "execution_count": null,
   "id": "b275d1c2-21f8-40fc-ab31-953b3d9a9f0d",
   "metadata": {},
   "outputs": [],
   "source": []
  },
  {
   "cell_type": "markdown",
   "id": "0bd290ab-fdf2-46b6-a195-aa2b16f05f49",
   "metadata": {},
   "source": [
    "\n",
    "<center><img src=\"figures/transform_architecture.png\" width=400/></center>"
   ]
  }
 ],
 "metadata": {
  "kernelspec": {
   "display_name": "venv_torch",
   "language": "python",
   "name": "venv_torch"
  },
  "language_info": {
   "codemirror_mode": {
    "name": "ipython",
    "version": 3
   },
   "file_extension": ".py",
   "mimetype": "text/x-python",
   "name": "python",
   "nbconvert_exporter": "python",
   "pygments_lexer": "ipython3",
   "version": "3.9.6"
  }
 },
 "nbformat": 4,
 "nbformat_minor": 5
}
