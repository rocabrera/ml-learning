{
 "cells": [
  {
   "cell_type": "code",
   "execution_count": 1,
   "id": "3dddf934-276c-47b4-9677-09dac43fcc20",
   "metadata": {},
   "outputs": [],
   "source": [
    "import torch"
   ]
  },
  {
   "cell_type": "markdown",
   "id": "6cbd8dab-c138-4f05-be93-8df3bb933e95",
   "metadata": {},
   "source": [
    "When dealing with deeplearning frameworks we use tensors instead of numpy arrays"
   ]
  },
  {
   "cell_type": "code",
   "execution_count": 22,
   "id": "68c1be2f-98a6-4e41-a81a-b68c38b68614",
   "metadata": {
    "tags": []
   },
   "outputs": [
    {
     "name": "stdout",
     "output_type": "stream",
     "text": [
      "Creates Tensor filled with uninitialized data:\n",
      "tensor([-7.1188e+25,  4.5831e-41,  4.0302e+12])\n",
      "\n",
      "Creates Tensor filled with samples from uniform distribution:\n",
      "tensor([[0.8624, 0.8351],\n",
      "        [0.2469, 0.0810]])\n",
      "\n",
      "Creates Tensor filled with samples from normal distribution:\n",
      "tensor([[[-1.1695,  0.4887, -0.2376],\n",
      "         [ 1.5155, -0.5743, -1.6992]],\n",
      "\n",
      "        [[ 0.8939, -1.3539, -0.3936],\n",
      "         [ 0.2024,  1.3877,  1.5122]]])\n",
      "\n",
      "Creates Tensor filled with zeros:\n",
      "tensor([[[0., 0., 0.],\n",
      "         [0., 0., 0.]],\n",
      "\n",
      "        [[0., 0., 0.],\n",
      "         [0., 0., 0.]],\n",
      "\n",
      "        [[0., 0., 0.],\n",
      "         [0., 0., 0.]]])\n",
      "\n",
      "Creates Tensor filled with ones:\n",
      "tensor([[1., 1.],\n",
      "        [1., 1.]])\n"
     ]
    }
   ],
   "source": [
    "print(\"Creates Tensor filled with uninitialized data:\")\n",
    "x = torch.empty(3)\n",
    "print(x)\n",
    "\n",
    "print(\"\\nCreates Tensor filled with samples from uniform distribution:\")\n",
    "x = torch.rand(2,2)\n",
    "print(x)\n",
    "\n",
    "print(\"\\nCreates Tensor filled with samples from normal distribution:\")\n",
    "x = torch.randn(2,2,3)\n",
    "print(x)\n",
    "\n",
    "print(\"\\nCreates Tensor filled with zeros:\")\n",
    "x = torch.zeros(3,2,3)\n",
    "print(x)\n",
    "\n",
    "print(\"\\nCreates Tensor filled with ones:\")\n",
    "x = torch.ones(2,2)\n",
    "print(x)"
   ]
  },
  {
   "cell_type": "markdown",
   "id": "a04e6b05-ae17-4b4f-ade8-61ce37e4fb4f",
   "metadata": {},
   "source": [
    "---\n",
    "Creating tensors from python structures:"
   ]
  },
  {
   "cell_type": "code",
   "execution_count": 40,
   "id": "18036d14-e355-465f-ac05-5e39a2950b47",
   "metadata": {},
   "outputs": [
    {
     "name": "stdout",
     "output_type": "stream",
     "text": [
      "tensor([1, 2, 3])\n"
     ]
    }
   ],
   "source": [
    "x = torch.tensor([1,2,3], dtype=int)\n",
    "print(x)"
   ]
  },
  {
   "cell_type": "markdown",
   "id": "50edc2e4-cd1f-43fa-9a00-bb036ba1dcd0",
   "metadata": {},
   "source": [
    "---\n",
    "Operations:\n",
    "\n",
    "- torch.add\n",
    "- torch.sub\n",
    "- torch.div"
   ]
  },
  {
   "cell_type": "code",
   "execution_count": 41,
   "id": "fcf0c422-7864-43e3-b003-c7041c660da5",
   "metadata": {},
   "outputs": [
    {
     "name": "stdout",
     "output_type": "stream",
     "text": [
      "tensor([[0.8700, 0.9575],\n",
      "        [1.0683, 0.7643]])\n",
      "tensor([[0.8700, 0.9575],\n",
      "        [1.0683, 0.7643]])\n",
      "tensor([[0.8700, 0.9575],\n",
      "        [1.0683, 0.7643]])\n"
     ]
    }
   ],
   "source": [
    "x1 = torch.rand(2,2)\n",
    "x2 = torch.rand(2,2)\n",
    "\n",
    "z = x1 + x2\n",
    "print(z)\n",
    "z = torch.add(x1,x2)\n",
    "print(z)\n",
    "\n",
    "\"\"\"\n",
    "Every function with _ makes inplace operation\n",
    "\"\"\"\n",
    "x1.add_(x2) \n",
    "print(x1)"
   ]
  },
  {
   "cell_type": "code",
   "execution_count": 42,
   "id": "b6d281ea-ec6c-420c-9937-03564c809697",
   "metadata": {},
   "outputs": [
    {
     "data": {
      "text/plain": [
       "tensor([], size=(0, 2))"
      ]
     },
     "execution_count": 42,
     "metadata": {},
     "output_type": "execute_result"
    }
   ],
   "source": [
    "x1[2:]"
   ]
  },
  {
   "cell_type": "code",
   "execution_count": null,
   "id": "d5481161-377b-4d6b-9285-e57798c79dfc",
   "metadata": {},
   "outputs": [],
   "source": []
  }
 ],
 "metadata": {
  "kernelspec": {
   "display_name": "venv_pytorch",
   "language": "python",
   "name": "venv_pytorch"
  },
  "language_info": {
   "codemirror_mode": {
    "name": "ipython",
    "version": 3
   },
   "file_extension": ".py",
   "mimetype": "text/x-python",
   "name": "python",
   "nbconvert_exporter": "python",
   "pygments_lexer": "ipython3",
   "version": "3.9.4"
  }
 },
 "nbformat": 4,
 "nbformat_minor": 5
}
