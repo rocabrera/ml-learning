{
 "cells": [
  {
   "cell_type": "markdown",
   "id": "52435d38-3716-4af2-aeba-a235e40e8681",
   "metadata": {},
   "source": [
    "<center><img src=\"figures/rnn_2.png\" width=600/></center>\n"
   ]
  },
  {
   "cell_type": "markdown",
   "id": "db270398-273d-455a-811d-b499635995ad",
   "metadata": {},
   "source": [
    "Although it may look as if each RNN cell is using a different weight as shown in the graphics, all of the weights are actually the same as that RNN cell is essentially being re-used throughout the process. Therefore, only the input data and hidden state carried forward are unique at each time step."
   ]
  },
  {
   "cell_type": "markdown",
   "id": "62135cf3-c64f-477c-8dda-9e7390f49922",
   "metadata": {},
   "source": [
    "<center><img src=\"figures/block_nn.png\" width=300/></center>"
   ]
  },
  {
   "cell_type": "markdown",
   "id": "6bc39a19-621f-43a7-8176-0f82d9c63852",
   "metadata": {},
   "source": [
    "<center><img src=\"figures/math_hidden.png\" width=600/></center>"
   ]
  }
 ],
 "metadata": {
  "kernelspec": {
   "display_name": "venv_pytorch",
   "language": "python",
   "name": "venv_pytorch"
  },
  "language_info": {
   "codemirror_mode": {
    "name": "ipython",
    "version": 3
   },
   "file_extension": ".py",
   "mimetype": "text/x-python",
   "name": "python",
   "nbconvert_exporter": "python",
   "pygments_lexer": "ipython3",
   "version": "3.9.4"
  }
 },
 "nbformat": 4,
 "nbformat_minor": 5
}
