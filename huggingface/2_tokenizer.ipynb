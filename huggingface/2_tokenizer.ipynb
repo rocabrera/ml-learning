{
 "cells": [
  {
   "cell_type": "markdown",
   "id": "7445f666-d3f2-4c7e-9d70-809eb29f4c14",
   "metadata": {},
   "source": [
    "# **Tokenization**"
   ]
  },
  {
   "cell_type": "markdown",
   "id": "d9e0fd2c-0329-4ddf-a3d6-522b28ff4025",
   "metadata": {},
   "source": [
    "## **TOC:**\n",
    "\n",
    "- 1) **[Introduction](#intro)**\n",
    "\n",
    "- 2) **[Character Tokenization](#chartoken)**\n",
    "\n",
    "- 3) **[Word Tokenization](#wordtoken)**\n",
    "\n",
    "- 4) **[Subword Tokenization](#subwordtoken)**\n",
    "\n",
    "    - 4.1) **[Auto Tokenizer](#autotokenizer)**\n",
    "    - 4.2) **[Specific Tokenizer](#specifictokenizer)**\n",
    "\n",
    "- 5) **[Tokenizing the Dataset](#tokenizingdataset)**\n",
    "    \n",
    "    - 5.1) **[HuggingFace Dataset](#huggingdataset)**\n",
    "    \n",
    "    - 5.2) **[Custom Dataset](#customdataset)**"
   ]
  },
  {
   "cell_type": "markdown",
   "id": "b86fb310-bf4e-4b0a-b93b-51215ac01146",
   "metadata": {},
   "source": [
    "Transformers provides a convenient AutoTokenizer class that allows you to quickly load\n",
    "the tokenizer associated with a pretrained model"
   ]
  },
  {
   "cell_type": "markdown",
   "id": "4d83c868-ac8f-42fc-bf22-983e94d251c8",
   "metadata": {},
   "source": [
    "<center><img src=\"figures/attention_masks.png\" width=600></center>"
   ]
  }
 ],
 "metadata": {
  "kernelspec": {
   "display_name": "venv_huggingface",
   "language": "python",
   "name": "venv_huggingface"
  },
  "language_info": {
   "codemirror_mode": {
    "name": "ipython",
    "version": 3
   },
   "file_extension": ".py",
   "mimetype": "text/x-python",
   "name": "python",
   "nbconvert_exporter": "python",
   "pygments_lexer": "ipython3",
   "version": "3.9.9"
  }
 },
 "nbformat": 4,
 "nbformat_minor": 5
}
