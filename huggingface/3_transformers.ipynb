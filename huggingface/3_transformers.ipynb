{
 "cells": [
  {
   "cell_type": "markdown",
   "id": "eafa20e5-14ff-49d2-905c-917df9a5a052",
   "metadata": {},
   "source": [
    "# **Transformers**"
   ]
  },
  {
   "cell_type": "markdown",
   "id": "f6a62489-f74b-4eb3-b5cb-73f02bfb2dc8",
   "metadata": {},
   "source": [
    "## **TOC:**\n",
    "\n",
    "- 1) **[Introduction](#intro)**\n",
    "\n",
    "- 2) **[Character Tokenization](#chartoken)**\n",
    "\n",
    "- 3) **[Word Tokenization](#wordtoken)**\n",
    "\n",
    "- 4) **[Subword Tokenization](#subwordtoken)**\n",
    "\n",
    "    - 4.1) **[Auto Tokenizer](#autotokenizer)**\n",
    "    - 4.2) **[Specific Tokenizer](#specifictokenizer)**\n",
    "\n",
    "- 5) **[Tokenizing the Dataset](#tokenizingdataset)**\n",
    "    \n",
    "    - 5.1) **[HuggingFace Dataset](#huggingdataset)**\n",
    "    \n",
    "    - 5.2) **[Custom Dataset](#customdataset)**"
   ]
  }
 ],
 "metadata": {
  "kernelspec": {
   "display_name": "venv_huggingface",
   "language": "python",
   "name": "venv_huggingface"
  },
  "language_info": {
   "codemirror_mode": {
    "name": "ipython",
    "version": 3
   },
   "file_extension": ".py",
   "mimetype": "text/x-python",
   "name": "python",
   "nbconvert_exporter": "python",
   "pygments_lexer": "ipython3",
   "version": "3.9.9"
  }
 },
 "nbformat": 4,
 "nbformat_minor": 5
}
