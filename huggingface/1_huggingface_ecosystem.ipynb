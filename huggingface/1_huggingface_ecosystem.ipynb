{
 "cells": [
  {
   "cell_type": "markdown",
   "id": "91a8ae0d-a375-4c71-bf7b-02f8fc00b8db",
   "metadata": {},
   "source": [
    "# **Hugging Face Ecosystem**"
   ]
  },
  {
   "cell_type": "markdown",
   "id": "81e818cb-f5c1-41fd-84ae-5df26ed78fc6",
   "metadata": {
    "tags": []
   },
   "source": [
    "## **TOC:**\n",
    "\n",
    "\n",
    "- 1) **[Introduction](#intro)**\n",
    "    - 1.1) **[Requirements](#requirements)**\n",
    "    - 1.2) **[Ecosystem](#ecosystem)**\n",
    "    - 1.4) **[Datasets](#datasets)**\n",
    "    - 1.5) **[Accelerate](#accelerate)**\n",
    "\n",
    "\n",
    "- 2) **[Usual Text Tasks](#tasks)**\n",
    "\n",
    "    - 2.1) **[Sentiment Analysis](#sentiment_analysis)**\n",
    "    - 2.2) **[Named Entity Recognition (NER)](#ner)**\n",
    "    - 2.3) **[Question Answering](#question_answering)**\n",
    "    - 2.4) **[Summarization](#summarization)**\n",
    "    - 2.5) **[Translation](#translation)**\n",
    "    - 2.6) **[Text Generation](#text_generation)**  \n",
    "\n",
    "\n",
    "- 3) **[Main Challenges with Transformers](#challenges)**"
   ]
  },
  {
   "cell_type": "markdown",
   "id": "d851d75c-8189-467e-8f65-1a34f84145ec",
   "metadata": {
    "tags": []
   },
   "source": [
    "# 1) **Introduction** <a class=\"anchor\" id=\"intro\"></a>"
   ]
  },
  {
   "cell_type": "markdown",
   "id": "81fafe7b-1032-4323-9264-4826877ced62",
   "metadata": {
    "tags": []
   },
   "source": [
    "## 1.1) **Requirements** <a class=\"anchor\" id=\"requirements\"></a>"
   ]
  },
  {
   "cell_type": "markdown",
   "id": "5bb7f663-a480-434e-bf2c-7126f35fefbb",
   "metadata": {},
   "source": [
    "```zsh\n",
    "transformers==4.18.0\n",
    "sentencepiece==0.1.96\n",
    "torch\n",
    "pandas\n",
    "```"
   ]
  },
  {
   "cell_type": "markdown",
   "id": "fc49870b-1b65-4a28-afaf-a10e9d2cea55",
   "metadata": {
    "tags": []
   },
   "source": [
    "## 1.2) **Ecosystem** <a class=\"anchor\" id=\"ecosystem\"></a>"
   ]
  },
  {
   "cell_type": "markdown",
   "id": "24f52000-4ab9-4646-b443-dde2fc73de97",
   "metadata": {},
   "source": [
    "<center><img src=\"figures/ecosystem.png\" width=300></center>"
   ]
  },
  {
   "cell_type": "markdown",
   "id": "4e5ee30a-5be0-468b-8779-a57c2e4bc0f8",
   "metadata": {
    "tags": []
   },
   "source": [
    "## 1.3) **Datasets** <a class=\"anchor\" id=\"datasets\"></a>"
   ]
  },
  {
   "cell_type": "markdown",
   "id": "c37c7ff4-a033-47f3-acde-e5f542ab2c8e",
   "metadata": {},
   "source": [
    "Interface for thousands of datasets that can be found on the [Hub](https://huggingface.co/datasets).\n",
    "\n",
    "**Features**:\n",
    "- Smart Caching (download only once)\n",
    "- Handle RAM limitations (mechanism called memory mapping)\n",
    "- Reproducible Experiments "
   ]
  },
  {
   "cell_type": "markdown",
   "id": "eb986996-7580-44a5-b003-5073cfb9b151",
   "metadata": {
    "tags": []
   },
   "source": [
    "## 1.4) **Accelerate** <a class=\"anchor\" id=\"accelerate\"></a>"
   ]
  },
  {
   "cell_type": "markdown",
   "id": "4f861667-9c0d-4d17-b90b-747e96550dc8",
   "metadata": {},
   "source": [
    "Change the infrastructure when necessary. A layer of abstraction to the custom logic necessary to train models.\n",
    "\n",
    "**Features**: \n",
    "- Easy use of multiple GPUs"
   ]
  },
  {
   "cell_type": "markdown",
   "id": "11a821fc-88f1-4da7-8607-f0df2003300d",
   "metadata": {},
   "source": [
    "---"
   ]
  },
  {
   "cell_type": "markdown",
   "id": "fdf0f0b0-fb25-456c-962f-b6720175f57d",
   "metadata": {},
   "source": [
    "# 2) **Usual Text Tasks** <a class=\"anchor\" id=\"tasks\"></a>"
   ]
  },
  {
   "cell_type": "code",
   "execution_count": 1,
   "id": "c0be2c21-55c6-4a66-8598-3db1f8734172",
   "metadata": {},
   "outputs": [],
   "source": [
    "import pandas as pd\n",
    "from transformers import pipeline"
   ]
  },
  {
   "cell_type": "markdown",
   "id": "7e8734c9-a685-4ed6-834c-12052e07f6ee",
   "metadata": {},
   "source": [
    "The model will be downloaded automatic by default in the ```~/.cache/huggingface/dataset```\n",
    "folder.\n",
    "\n",
    "Reference: [Pipelines](https://huggingface.co/transformers/v3.0.2/main_classes/pipelines.html)"
   ]
  },
  {
   "cell_type": "code",
   "execution_count": 2,
   "id": "eeb74916-5812-4914-8d5b-629f2b2720f1",
   "metadata": {},
   "outputs": [],
   "source": [
    "text = \"\"\"Dear Amazon, last week I ordered an Optimus Prime action figure\n",
    "from your online store in Germany. Unfortunately, when I opened the package,\n",
    "I discovered to my horror that I had been sent an action figure of Megatron\n",
    "instead! As a lifelong enemy of the Decepticons, I hope you can understand my\n",
    "dilemma. To resolve the issue, I demand an exchange of Megatron for the\n",
    "Optimus Prime figure I ordered. Enclosed are copies of my records concerning\n",
    "this purchase. I expect to hear from you soon. Sincerely, Bumblebee.\"\"\""
   ]
  },
  {
   "cell_type": "markdown",
   "id": "a930ce60-8d20-4c56-b4a0-a6091b330c55",
   "metadata": {
    "tags": []
   },
   "source": [
    "## 2.1) **Sentiment Analysis** <a class=\"anchor\" id=\"sentiment_analysis\"></a>\n"
   ]
  },
  {
   "cell_type": "code",
   "execution_count": 3,
   "id": "8a33e6b1-fb0d-4a84-b99c-efee6f40f7b0",
   "metadata": {},
   "outputs": [
    {
     "data": {
      "text/plain": [
       "[{'label': 'NEGATIVE', 'score': 0.9015461802482605}]"
      ]
     },
     "execution_count": 3,
     "metadata": {},
     "output_type": "execute_result"
    }
   ],
   "source": [
    "classifier = pipeline(\"sentiment-analysis\", model=\"distilbert-base-uncased-finetuned-sst-2-english\")\n",
    "classifier(text)"
   ]
  },
  {
   "cell_type": "markdown",
   "id": "6f755c41-a9e2-472e-8445-cdc64bdb6cdd",
   "metadata": {
    "tags": []
   },
   "source": [
    "## 2.2) **Named Entity Recognition (NER)** <a class=\"anchor\" id=\"ner\"></a>\n"
   ]
  },
  {
   "cell_type": "code",
   "execution_count": 4,
   "id": "ef51775b-ad22-407a-afa8-31c3a5a19c73",
   "metadata": {},
   "outputs": [
    {
     "name": "stderr",
     "output_type": "stream",
     "text": [
      "No model was supplied, defaulted to dbmdz/bert-large-cased-finetuned-conll03-english (https://huggingface.co/dbmdz/bert-large-cased-finetuned-conll03-english)\n"
     ]
    }
   ],
   "source": [
    "ner_tagger = pipeline(\"ner\", aggregation_strategy=\"simple\")\n",
    "outputs = ner_tagger(text)"
   ]
  },
  {
   "cell_type": "code",
   "execution_count": 5,
   "id": "59ef87fc-a485-4982-80fc-2fd4f5790d7f",
   "metadata": {},
   "outputs": [
    {
     "data": {
      "text/html": [
       "<div>\n",
       "<style scoped>\n",
       "    .dataframe tbody tr th:only-of-type {\n",
       "        vertical-align: middle;\n",
       "    }\n",
       "\n",
       "    .dataframe tbody tr th {\n",
       "        vertical-align: top;\n",
       "    }\n",
       "\n",
       "    .dataframe thead th {\n",
       "        text-align: right;\n",
       "    }\n",
       "</style>\n",
       "<table border=\"1\" class=\"dataframe\">\n",
       "  <thead>\n",
       "    <tr style=\"text-align: right;\">\n",
       "      <th></th>\n",
       "      <th>entity_group</th>\n",
       "      <th>score</th>\n",
       "      <th>word</th>\n",
       "      <th>start</th>\n",
       "      <th>end</th>\n",
       "    </tr>\n",
       "  </thead>\n",
       "  <tbody>\n",
       "    <tr>\n",
       "      <th>0</th>\n",
       "      <td>ORG</td>\n",
       "      <td>0.879010</td>\n",
       "      <td>Amazon</td>\n",
       "      <td>5</td>\n",
       "      <td>11</td>\n",
       "    </tr>\n",
       "    <tr>\n",
       "      <th>1</th>\n",
       "      <td>MISC</td>\n",
       "      <td>0.990859</td>\n",
       "      <td>Optimus Prime</td>\n",
       "      <td>36</td>\n",
       "      <td>49</td>\n",
       "    </tr>\n",
       "    <tr>\n",
       "      <th>2</th>\n",
       "      <td>LOC</td>\n",
       "      <td>0.999755</td>\n",
       "      <td>Germany</td>\n",
       "      <td>90</td>\n",
       "      <td>97</td>\n",
       "    </tr>\n",
       "    <tr>\n",
       "      <th>3</th>\n",
       "      <td>MISC</td>\n",
       "      <td>0.556570</td>\n",
       "      <td>Mega</td>\n",
       "      <td>208</td>\n",
       "      <td>212</td>\n",
       "    </tr>\n",
       "    <tr>\n",
       "      <th>4</th>\n",
       "      <td>PER</td>\n",
       "      <td>0.590256</td>\n",
       "      <td>##tron</td>\n",
       "      <td>212</td>\n",
       "      <td>216</td>\n",
       "    </tr>\n",
       "  </tbody>\n",
       "</table>\n",
       "</div>"
      ],
      "text/plain": [
       "  entity_group     score           word  start  end\n",
       "0          ORG  0.879010         Amazon      5   11\n",
       "1         MISC  0.990859  Optimus Prime     36   49\n",
       "2          LOC  0.999755        Germany     90   97\n",
       "3         MISC  0.556570           Mega    208  212\n",
       "4          PER  0.590256         ##tron    212  216"
      ]
     },
     "execution_count": 5,
     "metadata": {},
     "output_type": "execute_result"
    }
   ],
   "source": [
    "pd.DataFrame(outputs).head()"
   ]
  },
  {
   "cell_type": "markdown",
   "id": "540f7942-99e6-4c5a-b9fb-2199e1c3aea4",
   "metadata": {
    "tags": []
   },
   "source": [
    "## 2.3) **Question Answering** <a class=\"anchor\" id=\"question_answering\"></a>\n"
   ]
  },
  {
   "cell_type": "code",
   "execution_count": 6,
   "id": "861c3c53-bb00-4828-a995-a22e7b6cc0a8",
   "metadata": {},
   "outputs": [
    {
     "name": "stderr",
     "output_type": "stream",
     "text": [
      "No model was supplied, defaulted to distilbert-base-cased-distilled-squad (https://huggingface.co/distilbert-base-cased-distilled-squad)\n"
     ]
    }
   ],
   "source": [
    "reader = pipeline(\"question-answering\")\n",
    "question = \"What does the customer want?\"\n",
    "outputs = reader(question=question, context=text)"
   ]
  },
  {
   "cell_type": "code",
   "execution_count": 7,
   "id": "934020fe-4cc3-4a1d-b2a2-2cb62e54e496",
   "metadata": {},
   "outputs": [
    {
     "data": {
      "text/html": [
       "<div>\n",
       "<style scoped>\n",
       "    .dataframe tbody tr th:only-of-type {\n",
       "        vertical-align: middle;\n",
       "    }\n",
       "\n",
       "    .dataframe tbody tr th {\n",
       "        vertical-align: top;\n",
       "    }\n",
       "\n",
       "    .dataframe thead th {\n",
       "        text-align: right;\n",
       "    }\n",
       "</style>\n",
       "<table border=\"1\" class=\"dataframe\">\n",
       "  <thead>\n",
       "    <tr style=\"text-align: right;\">\n",
       "      <th></th>\n",
       "      <th>score</th>\n",
       "      <th>start</th>\n",
       "      <th>end</th>\n",
       "      <th>answer</th>\n",
       "    </tr>\n",
       "  </thead>\n",
       "  <tbody>\n",
       "    <tr>\n",
       "      <th>0</th>\n",
       "      <td>0.631292</td>\n",
       "      <td>335</td>\n",
       "      <td>358</td>\n",
       "      <td>an exchange of Megatron</td>\n",
       "    </tr>\n",
       "  </tbody>\n",
       "</table>\n",
       "</div>"
      ],
      "text/plain": [
       "      score  start  end                   answer\n",
       "0  0.631292    335  358  an exchange of Megatron"
      ]
     },
     "execution_count": 7,
     "metadata": {},
     "output_type": "execute_result"
    }
   ],
   "source": [
    "pd.DataFrame([outputs])"
   ]
  },
  {
   "cell_type": "markdown",
   "id": "2bcaeaf9-f5c2-4aa0-92f3-281637cb1dd4",
   "metadata": {
    "tags": []
   },
   "source": [
    "## 2.4) **Summarization** <a class=\"anchor\" id=\"summarization\"></a>\n"
   ]
  },
  {
   "cell_type": "code",
   "execution_count": 8,
   "id": "379eb899-44f8-467e-8fc0-7d3ea70caebb",
   "metadata": {},
   "outputs": [
    {
     "name": "stderr",
     "output_type": "stream",
     "text": [
      "No model was supplied, defaulted to sshleifer/distilbart-cnn-12-6 (https://huggingface.co/sshleifer/distilbart-cnn-12-6)\n",
      "Your min_length=56 must be inferior than your max_length=45.\n"
     ]
    }
   ],
   "source": [
    "summarizer = pipeline(\"summarization\")\n",
    "outputs = summarizer(text, max_length=45, clean_up_tokenization_spaces=True)"
   ]
  },
  {
   "cell_type": "code",
   "execution_count": 9,
   "id": "85326f3d-9b71-4228-a165-1036b01d25be",
   "metadata": {},
   "outputs": [
    {
     "name": "stdout",
     "output_type": "stream",
     "text": [
      " Bumblebee ordered an Optimus Prime action figure from your online store in Germany. Unfortunately, when I opened the package, I discovered to my horror that I had been sent an action figure of Megatron instead.\n"
     ]
    }
   ],
   "source": [
    "print(outputs[0]['summary_text'])"
   ]
  },
  {
   "cell_type": "markdown",
   "id": "2ed92794-511a-4510-9355-eb168137bfc8",
   "metadata": {
    "tags": []
   },
   "source": [
    "## 2.5) **Translation** <a class=\"anchor\" id=\"translation\"></a>\n"
   ]
  },
  {
   "cell_type": "code",
   "execution_count": 10,
   "id": "12b82b8e-db92-441d-96a2-3ce8a90e4721",
   "metadata": {},
   "outputs": [
    {
     "data": {
      "application/vnd.jupyter.widget-view+json": {
       "model_id": "782f86a30f864153a6d9b86dd6511e78",
       "version_major": 2,
       "version_minor": 0
      },
      "text/plain": [
       "Downloading:   0%|          | 0.00/750k [00:00<?, ?B/s]"
      ]
     },
     "metadata": {},
     "output_type": "display_data"
    },
    {
     "data": {
      "application/vnd.jupyter.widget-view+json": {
       "model_id": "35c9c08231f14491af43f378cd89c4a5",
       "version_major": 2,
       "version_minor": 0
      },
      "text/plain": [
       "Downloading:   0%|          | 0.00/778k [00:00<?, ?B/s]"
      ]
     },
     "metadata": {},
     "output_type": "display_data"
    },
    {
     "data": {
      "application/vnd.jupyter.widget-view+json": {
       "model_id": "da432f43c35e428e8e62e546ccd3ed2b",
       "version_major": 2,
       "version_minor": 0
      },
      "text/plain": [
       "Downloading:   0%|          | 0.00/1.21M [00:00<?, ?B/s]"
      ]
     },
     "metadata": {},
     "output_type": "display_data"
    }
   ],
   "source": [
    "translator = pipeline(\"translation_en_to_de\",\n",
    "                      model=\"Helsinki-NLP/opus-mt-en-de\")"
   ]
  },
  {
   "cell_type": "code",
   "execution_count": 11,
   "id": "38560a33-fee5-47fc-bfc1-b5cb776ba113",
   "metadata": {},
   "outputs": [
    {
     "name": "stdout",
     "output_type": "stream",
     "text": [
      "Sehr geehrter Amazon, letzte Woche habe ich eine Optimus Prime Action Figur aus Ihrem Online-Shop in Deutschland bestellt. Leider, als ich das Paket öffnete, entdeckte ich zu meinem Entsetzen, dass ich stattdessen eine Action Figur von Megatron geschickt worden war! Als lebenslanger Feind der Decepticons, Ich hoffe, Sie können mein Dilemma verstehen. Um das Problem zu lösen, Ich fordere einen Austausch von Megatron für die Optimus Prime Figur habe ich bestellt. Anbei sind Kopien meiner Aufzeichnungen über diesen Kauf. Ich erwarte, bald von Ihnen zu hören. Aufrichtig, Bumblebee.\n"
     ]
    }
   ],
   "source": [
    "outputs = translator(text, clean_up_tokenization_spaces=True, min_length=100)\n",
    "print(outputs[0]['translation_text'])"
   ]
  },
  {
   "cell_type": "markdown",
   "id": "f888de72-3444-403e-bbd6-8b0bff37d4c1",
   "metadata": {
    "tags": []
   },
   "source": [
    "## 2.6) **Text Generation** <a class=\"anchor\" id=\"text_generation\"></a>\n"
   ]
  },
  {
   "cell_type": "code",
   "execution_count": 12,
   "id": "42f30d17-216b-4948-baaf-44c8b2589641",
   "metadata": {},
   "outputs": [
    {
     "name": "stderr",
     "output_type": "stream",
     "text": [
      "No model was supplied, defaulted to gpt2 (https://huggingface.co/gpt2)\n"
     ]
    }
   ],
   "source": [
    "generator = pipeline(\"text-generation\")\n",
    "response = \"Dear Bumblebee, I am sorry to hear that your order was mixed up.\"\n",
    "prompt = text + \"\\n\\nCustomer service response:\\n\" + response"
   ]
  },
  {
   "cell_type": "code",
   "execution_count": 13,
   "id": "53c0bfca-aff5-4046-ae31-d3289b288b33",
   "metadata": {},
   "outputs": [
    {
     "name": "stderr",
     "output_type": "stream",
     "text": [
      "Setting `pad_token_id` to `eos_token_id`:50256 for open-end generation.\n"
     ]
    },
    {
     "name": "stdout",
     "output_type": "stream",
     "text": [
      "Dear Amazon, last week I ordered an Optimus Prime action figure\n",
      "from your online store in Germany. Unfortunately, when I opened the package,\n",
      "I discovered to my horror that I had been sent an action figure of Megatron\n",
      "instead! As a lifelong enemy of the Decepticons, I hope you can understand my\n",
      "dilemma. To resolve the issue, I demand an exchange of Megatron for the\n",
      "Optimus Prime figure I ordered. Enclosed are copies of my records concerning\n",
      "this purchase. I expect to hear from you soon. Sincerely, Bumblebee.\n",
      "\n",
      "Customer service response:\n",
      "Dear Bumblebee, I am sorry to hear that your order was mixed up. If the order\n",
      "\n",
      "mistake was, your mistake and it's failure must remain, please contact Bumblebee immediately and we\n",
      "\n",
      "can work out exactly what action figure is being shipped instead. Please note that I have purchased a Optimus Prime action figure that is \"incomplete\"\n",
      "\n"
     ]
    }
   ],
   "source": [
    "outputs = generator(prompt, max_length=200)\n",
    "print(outputs[0]['generated_text'])"
   ]
  },
  {
   "cell_type": "markdown",
   "id": "a6b64207-56c2-4fed-9109-d6c8828ee4c8",
   "metadata": {},
   "source": [
    "outputs"
   ]
  },
  {
   "cell_type": "markdown",
   "id": "cfc4a599-9e48-4a37-b39b-2cd09607482f",
   "metadata": {},
   "source": [
    "---"
   ]
  },
  {
   "cell_type": "markdown",
   "id": "7fcb242d-0546-4166-8347-9e32149150b9",
   "metadata": {},
   "source": [
    "# 3) **Main Challenges with Transformers** <a class=\"anchor\" id=\"challenges\"></a>\n",
    "\n"
   ]
  },
  {
   "cell_type": "markdown",
   "id": "515ee0d1-3662-450c-98ff-f212fcf30cb2",
   "metadata": {},
   "source": [
    "\n",
    "- Language (Mainly english pretrained models).\n",
    "- Data availability (Need labeled data).\n",
    "- Working with long documents (Lenght performance).\n",
    "- Opacity (Why the model give this prediction?)\n",
    "- Bias (Is the model racist or sexist?)"
   ]
  }
 ],
 "metadata": {
  "kernelspec": {
   "display_name": "venv_huggingface",
   "language": "python",
   "name": "venv_huggingface"
  },
  "language_info": {
   "codemirror_mode": {
    "name": "ipython",
    "version": 3
   },
   "file_extension": ".py",
   "mimetype": "text/x-python",
   "name": "python",
   "nbconvert_exporter": "python",
   "pygments_lexer": "ipython3",
   "version": "3.9.9"
  }
 },
 "nbformat": 4,
 "nbformat_minor": 5
}
