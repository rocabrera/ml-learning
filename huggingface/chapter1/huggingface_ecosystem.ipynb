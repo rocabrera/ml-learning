{
 "cells": [
  {
   "cell_type": "code",
   "execution_count": 1,
   "id": "c0be2c21-55c6-4a66-8598-3db1f8734172",
   "metadata": {},
   "outputs": [],
   "source": [
    "from transformers import pipeline"
   ]
  },
  {
   "cell_type": "markdown",
   "id": "91a8ae0d-a375-4c71-bf7b-02f8fc00b8db",
   "metadata": {},
   "source": [
    "# **Hugging Face Ecosystem**"
   ]
  },
  {
   "cell_type": "markdown",
   "id": "81e818cb-f5c1-41fd-84ae-5df26ed78fc6",
   "metadata": {
    "jp-MarkdownHeadingCollapsed": true,
    "tags": []
   },
   "source": [
    "## **TOC:**\n",
    "\n",
    "\n",
    "- 1) **[Introduction](#intro)**\n",
    "    - 1.1) **[Requirements](#requirements)**\n",
    "    - 1.2) **[Ecosystem](#ecosystem)**\n",
    "    - 1.4) **[Datasets](#datasets)**\n",
    "    - 1.5) **[Accelerate](#accelerate)**\n",
    "\n",
    "\n",
    "- 2) **[Usual Text Tasks](#tasks)**\n",
    "\n",
    "    - 2.1) **[Sentiment Analysis](#sentiment_analysis)**\n",
    "    - 2.2) **[Named Entity Recognition (NER)](#ner)**\n",
    "    - 2.3) **[Question Answering](#question_answering)**\n",
    "    - 2.4) **[Summarization](#summarization)**\n",
    "    - 2.5) **[Translation](#translation)**\n",
    "    - 2.6) **[Text Generation](#text_generation)**  \n",
    "\n",
    "\n",
    "- 3) **[Main Challenges with Transformers](#challenges)**"
   ]
  },
  {
   "cell_type": "markdown",
   "id": "7aac40fe-7573-45e1-ae64-86393a06d124",
   "metadata": {},
   "source": []
  },
  {
   "cell_type": "markdown",
   "id": "d851d75c-8189-467e-8f65-1a34f84145ec",
   "metadata": {
    "jp-MarkdownHeadingCollapsed": true,
    "tags": []
   },
   "source": [
    "# 1) **Introduction** <a class=\"anchor\" id=\"intro\"></a>"
   ]
  },
  {
   "cell_type": "markdown",
   "id": "81fafe7b-1032-4323-9264-4826877ced62",
   "metadata": {
    "jp-MarkdownHeadingCollapsed": true,
    "tags": []
   },
   "source": [
    "## 1.1) **Requirements** <a class=\"anchor\" id=\"requirements\"></a>"
   ]
  },
  {
   "cell_type": "markdown",
   "id": "5bb7f663-a480-434e-bf2c-7126f35fefbb",
   "metadata": {},
   "source": [
    "```zsh\n",
    "pip install transformers==4.18.0\n",
    "pip install torch\n",
    "```"
   ]
  },
  {
   "cell_type": "markdown",
   "id": "fc49870b-1b65-4a28-afaf-a10e9d2cea55",
   "metadata": {
    "jp-MarkdownHeadingCollapsed": true,
    "tags": []
   },
   "source": [
    "## 1.2) **Ecosystem** <a class=\"anchor\" id=\"ecosystem\"></a>"
   ]
  },
  {
   "cell_type": "markdown",
   "id": "24f52000-4ab9-4646-b443-dde2fc73de97",
   "metadata": {},
   "source": [
    "<center><img src=\"figures/ecosystem.png\" width=300></center>"
   ]
  },
  {
   "cell_type": "markdown",
   "id": "4e5ee30a-5be0-468b-8779-a57c2e4bc0f8",
   "metadata": {
    "jp-MarkdownHeadingCollapsed": true,
    "tags": []
   },
   "source": [
    "## 1.3) **Datasets** <a class=\"anchor\" id=\"datasets\"></a>"
   ]
  },
  {
   "cell_type": "code",
   "execution_count": null,
   "id": "8a593c32-5081-4a24-9f0e-63ccb31b8d7b",
   "metadata": {},
   "outputs": [],
   "source": []
  },
  {
   "cell_type": "markdown",
   "id": "eb986996-7580-44a5-b003-5073cfb9b151",
   "metadata": {
    "jp-MarkdownHeadingCollapsed": true,
    "tags": []
   },
   "source": [
    "## 1.4) **Accelerate** <a class=\"anchor\" id=\"accelerate\"></a>"
   ]
  },
  {
   "cell_type": "code",
   "execution_count": null,
   "id": "df27f54c-232a-428f-af2a-ffc14c800778",
   "metadata": {},
   "outputs": [],
   "source": []
  },
  {
   "cell_type": "markdown",
   "id": "11a821fc-88f1-4da7-8607-f0df2003300d",
   "metadata": {},
   "source": [
    "---"
   ]
  },
  {
   "cell_type": "markdown",
   "id": "fdf0f0b0-fb25-456c-962f-b6720175f57d",
   "metadata": {},
   "source": [
    "# 2) **Usual Text Tasks** <a class=\"anchor\" id=\"tasks\"></a>"
   ]
  },
  {
   "cell_type": "code",
   "execution_count": null,
   "id": "eeb74916-5812-4914-8d5b-629f2b2720f1",
   "metadata": {},
   "outputs": [],
   "source": [
    "text = \"\"\"Dear Amazon, last week I ordered an Optimus Prime action figure\n",
    "from your online store in Germany. Unfortunately, when I opened the package,\n",
    "I discovered to my horror that I had been sent an action figure of Megatron\n",
    "instead! As a lifelong enemy of the Decepticons, I hope you can understand my\n",
    "dilemma. To resolve the issue, I demand an exchange of Megatron for the\n",
    "Optimus Prime figure I ordered. Enclosed are copies of my records concerning\n",
    "this purchase. I expect to hear from you soon. Sincerely, Bumblebee.\"\"\""
   ]
  },
  {
   "cell_type": "markdown",
   "id": "7e8734c9-a685-4ed6-834c-12052e07f6ee",
   "metadata": {},
   "source": [
    "[Pipelines](https://huggingface.co/transformers/v3.0.2/main_classes/pipelines.html)"
   ]
  },
  {
   "cell_type": "markdown",
   "id": "a930ce60-8d20-4c56-b4a0-a6091b330c55",
   "metadata": {
    "jp-MarkdownHeadingCollapsed": true,
    "tags": []
   },
   "source": [
    "## 2.1) **Sentiment Analysis** <a class=\"anchor\" id=\"sentiment_analysis\"></a>\n"
   ]
  },
  {
   "cell_type": "code",
   "execution_count": null,
   "id": "8a33e6b1-fb0d-4a84-b99c-efee6f40f7b0",
   "metadata": {},
   "outputs": [],
   "source": [
    "classifier = pipeline(\"sentiment-analysis\", model=\"distilbert-base-uncased-finetuned-sst-2-english\")\n",
    "classifier(text)"
   ]
  },
  {
   "cell_type": "markdown",
   "id": "6f755c41-a9e2-472e-8445-cdc64bdb6cdd",
   "metadata": {
    "jp-MarkdownHeadingCollapsed": true,
    "tags": []
   },
   "source": [
    "## 2.2) **Named Entity Recognition (NER)** <a class=\"anchor\" id=\"ner\"></a>\n"
   ]
  },
  {
   "cell_type": "code",
   "execution_count": null,
   "id": "ef51775b-ad22-407a-afa8-31c3a5a19c73",
   "metadata": {},
   "outputs": [],
   "source": []
  },
  {
   "cell_type": "markdown",
   "id": "540f7942-99e6-4c5a-b9fb-2199e1c3aea4",
   "metadata": {
    "jp-MarkdownHeadingCollapsed": true,
    "tags": []
   },
   "source": [
    "## 2.3) **Question Answering** <a class=\"anchor\" id=\"question_answering\"></a>\n"
   ]
  },
  {
   "cell_type": "code",
   "execution_count": null,
   "id": "0fa92a33-2a10-45b1-9cf9-860cfbeed8d2",
   "metadata": {},
   "outputs": [],
   "source": []
  },
  {
   "cell_type": "markdown",
   "id": "2bcaeaf9-f5c2-4aa0-92f3-281637cb1dd4",
   "metadata": {
    "jp-MarkdownHeadingCollapsed": true,
    "tags": []
   },
   "source": [
    "## 2.4) **Summarization** <a class=\"anchor\" id=\"summarization\"></a>\n"
   ]
  },
  {
   "cell_type": "code",
   "execution_count": null,
   "id": "b233d436-b7fd-471c-b93c-7c6328f53095",
   "metadata": {},
   "outputs": [],
   "source": []
  },
  {
   "cell_type": "markdown",
   "id": "2ed92794-511a-4510-9355-eb168137bfc8",
   "metadata": {
    "jp-MarkdownHeadingCollapsed": true,
    "tags": []
   },
   "source": [
    "## 2.5) **Translation** <a class=\"anchor\" id=\"translation\"></a>\n"
   ]
  },
  {
   "cell_type": "code",
   "execution_count": null,
   "id": "0fee3e47-c0b2-4dcb-ba58-97c626fa7fb9",
   "metadata": {},
   "outputs": [],
   "source": [
    "translator = pipeline(\"translation_en_to_pt\",\n",
    "                      model=\"unicamp-dl/translation-en-pt-t5\")\n",
    "\n",
    "outputs = translator(text, clean_up_tokenization_spaces=True, min_length=200)\n"
   ]
  },
  {
   "cell_type": "markdown",
   "id": "f888de72-3444-403e-bbd6-8b0bff37d4c1",
   "metadata": {
    "jp-MarkdownHeadingCollapsed": true,
    "tags": []
   },
   "source": [
    "## 2.6) **Text Generation** <a class=\"anchor\" id=\"text_generation\"></a>\n"
   ]
  },
  {
   "cell_type": "markdown",
   "id": "a6b64207-56c2-4fed-9109-d6c8828ee4c8",
   "metadata": {},
   "source": []
  },
  {
   "cell_type": "markdown",
   "id": "cfc4a599-9e48-4a37-b39b-2cd09607482f",
   "metadata": {},
   "source": [
    "---"
   ]
  },
  {
   "cell_type": "markdown",
   "id": "7fcb242d-0546-4166-8347-9e32149150b9",
   "metadata": {},
   "source": [
    "# 3) **Main Challenges with Transformers** <a class=\"anchor\" id=\"challenges\"></a>\n",
    "\n"
   ]
  },
  {
   "cell_type": "markdown",
   "id": "515ee0d1-3662-450c-98ff-f212fcf30cb2",
   "metadata": {},
   "source": [
    "\n",
    "- Language (Mainly english pretrained models).\n",
    "- Data availability (Need labeled data).\n",
    "- Working with long documents (Lenght performance).\n",
    "- Opacity (Why the model give this prediction?)\n",
    "- Bias (Is the model racist or sexist?)"
   ]
  },
  {
   "cell_type": "code",
   "execution_count": null,
   "id": "e2514609-7d98-4168-b43b-b5441715ef4c",
   "metadata": {},
   "outputs": [],
   "source": []
  }
 ],
 "metadata": {
  "kernelspec": {
   "display_name": "venv_huggingface",
   "language": "python",
   "name": "venv_huggingface"
  },
  "language_info": {
   "codemirror_mode": {
    "name": "ipython",
    "version": 3
   },
   "file_extension": ".py",
   "mimetype": "text/x-python",
   "name": "python",
   "nbconvert_exporter": "python",
   "pygments_lexer": "ipython3",
   "version": "3.9.9"
  }
 },
 "nbformat": 4,
 "nbformat_minor": 5
}
